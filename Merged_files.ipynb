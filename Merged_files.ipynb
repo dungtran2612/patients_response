{
 "cells": [
  {
   "cell_type": "code",
   "execution_count": null,
   "id": "e169aeed",
   "metadata": {},
   "outputs": [],
   "source": [
    "# load R packages\n",
    "library(readxl)\n",
    "packageVersion('readxl')\n",
    "library(dplyr)\n",
    "packageVersion('dplyr')\n",
    "library(stringr)\n",
    "packageVersion('stringr')\n",
    "library(fastDummies)\n",
    "packageVersion('fastDummies')\n",
    "library(tidyr)\n",
    "packageVersion('tidyr')\n",
    "library(lubridate)\n",
    "packageVersion('lubridate')\n",
    "library(ggplot2)\n",
    "packageVersion('ggplot2')"
   ]
  },
  {
   "cell_type": "code",
   "execution_count": null,
   "id": "fde72421",
   "metadata": {},
   "outputs": [],
   "source": [
    "# set directory\n",
    "project.dir = '...'\n",
    "data.dir = '...'\n",
    "regeps.dir = '...'\n",
    "raw.rpdr.dir = file.path(regeps.dir, '...')\n",
    "cleaned.rpdr.dir = file.path(regeps.dir, '...')"
   ]
  },
  {
   "cell_type": "markdown",
   "id": "1120c8a3",
   "metadata": {},
   "source": [
    "# Load all RPDR files"
   ]
  },
  {
   "cell_type": "code",
   "execution_count": null,
   "id": "30105814",
   "metadata": {},
   "outputs": [],
   "source": [
    "# load all diagnosis\n",
    "diag <- read.csv(file.path(cleaned.rpdr.dir, 'All_Diagnosis.csv'))\n",
    "dim(diag)\n",
    "length(unique(diag$Subject_Id)) # 928"
   ]
  },
  {
   "cell_type": "code",
   "execution_count": null,
   "id": "d5c2b9db",
   "metadata": {},
   "outputs": [],
   "source": [
    "# load ICS file\n",
    "ics <- read.csv(file.path(cleaned.rpdr.dir, 'ICS_prescription_summary.csv'))\n",
    "dim(ics)\n",
    "length(unique(ics$Subject_Id)) # 914"
   ]
  },
  {
   "cell_type": "code",
   "execution_count": null,
   "id": "2d749442",
   "metadata": {},
   "outputs": [],
   "source": [
    "# load OCS file\n",
    "ocs <- read.csv(file.path(cleaned.rpdr.dir, 'OCS_prescription_summary.csv'))\n",
    "dim(ocs)\n",
    "length(unique(ocs$Subject_Id)) # 782"
   ]
  },
  {
   "cell_type": "code",
   "execution_count": null,
   "id": "d049587d",
   "metadata": {},
   "outputs": [],
   "source": [
    "# load bmi\n",
    "bmi <- read.csv(file.path(cleaned.rpdr.dir, 'BMI_median.csv'))\n",
    "dim(bmi )\n",
    "length(unique(bmi $Subject_Id)) # 923"
   ]
  },
  {
   "cell_type": "code",
   "execution_count": null,
   "id": "fbdb9033",
   "metadata": {},
   "outputs": [],
   "source": [
    "# load smoking\n",
    "smoking.status <- read.csv(file.path(cleaned.rpdr.dir, 'Smoking_status_summary.csv'))\n",
    "dim(smoking.status)\n",
    "length(unique(smoking.status$Subject_Id)) # 899"
   ]
  },
  {
   "cell_type": "code",
   "execution_count": null,
   "id": "4e149f52",
   "metadata": {},
   "outputs": [],
   "source": [
    "# load cortisol file\n",
    "cortisol <- read.csv(file.path(cleaned.rpdr.dir, 'Cortisol_closest_collect_date.csv'))\n",
    "dim(cortisol )\n",
    "length(unique(cortisol $Subject_Id)) # 898"
   ]
  },
  {
   "cell_type": "code",
   "execution_count": null,
   "id": "c14833f8",
   "metadata": {},
   "outputs": [],
   "source": [
    "# load dem\n",
    "dem <- read.csv(file.path(cleaned.rpdr.dir, 'Demographic_data.csv'))\n",
    "dim(dem)\n",
    "length(unique(dem$Subject_Id)) \n",
    "head(dem)\n",
    "dem <- dem %>% select(Subject_Id, EMPI, Date_of_Birth,\n",
    "                      Date_Of_Death, Vital_status, Plasma_collect_date, \n",
    "                      Age_at_plasma_collection_date)\n",
    "dim(dem)\n",
    "head(dem)"
   ]
  },
  {
   "cell_type": "code",
   "execution_count": null,
   "id": "197a8725",
   "metadata": {},
   "outputs": [],
   "source": [
    "# load race\n",
    "race <- read.csv(file.path(cleaned.rpdr.dir, 'race_info.csv'))\n",
    "dim(race)\n",
    "length(unique(race$Subject_Id)) "
   ]
  },
  {
   "cell_type": "code",
   "execution_count": null,
   "id": "6fe1d0d0",
   "metadata": {},
   "outputs": [],
   "source": [
    "# load gender\n",
    "gender <- read.csv(file.path(cleaned.rpdr.dir, 'gender_info.csv'))\n",
    "dim(gender)\n",
    "length(unique(gender$Subject_Id)) "
   ]
  },
  {
   "cell_type": "code",
   "execution_count": null,
   "id": "fd56fac4",
   "metadata": {},
   "outputs": [],
   "source": [
    "# merge all\n",
    "data <- dem %>% left_join(race, by = 'Subject_Id') %>%\n",
    "                  left_join(gender, by = 'Subject_Id') %>%\n",
    "                  left_join(diag, by = 'Subject_Id') %>%\n",
    "                  left_join(smoking.status, by = 'Subject_Id') %>%\n",
    "                  left_join(bmi, by = 'Subject_Id') %>%\n",
    "                  left_join(ics, by = 'Subject_Id') %>%\n",
    "                  left_join(ocs, by = 'Subject_Id') %>%\n",
    "                  left_join(cortisol, by = 'Subject_Id')\n",
    "dim(data)"
   ]
  },
  {
   "cell_type": "code",
   "execution_count": null,
   "id": "841e166a",
   "metadata": {},
   "outputs": [],
   "source": [
    "# replace NA to Unknown\n",
    "table(data$Closest_collect_date_smoking_status)\n",
    "sum(is.na(data$Closest_collect_date_smoking_status))\n",
    "data$Closest_collect_date_smoking_status[is.na(data$Closest_collect_date_smoking_status)] <- 'Unknown'\n",
    "table(data$Closest_collect_date_smoking_status)"
   ]
  },
  {
   "cell_type": "code",
   "execution_count": null,
   "id": "2c844818",
   "metadata": {},
   "outputs": [],
   "source": [
    "# replace NA to Unknown\n",
    "table(data$Race_White_KNN_impute_missing)\n",
    "sum(is.na(data$Race_White_KNN_impute_missing))\n",
    "data$Race_White_KNN_impute_missing[is.na(data$Race_White_KNN_impute_missing)] <- 'Unknown'\n",
    "table(data$Race_White_KNN_impute_missing)"
   ]
  },
  {
   "cell_type": "code",
   "execution_count": null,
   "id": "59bc6cca",
   "metadata": {},
   "outputs": [],
   "source": [
    "# add BMI category of closest BMI to collect date\n",
    "data$BMI_median_closest_measure_date_to_collect_date_category <- NA\n",
    "data$BMI_median_closest_measure_date_to_collect_date_category[data$BMI_median_closest_measure_date_to_collect_date < 18.5] <- 'Underweight'\n",
    "data$BMI_median_closest_measure_date_to_collect_date_category[(data$BMI_median_closest_measure_date_to_collect_date >= 18.5) & (data$BMI_median_closest_measure_date_to_collect_date < 25)] <- 'Healthy Weight'\n",
    "data$BMI_median_closest_measure_date_to_collect_date_category[(data$BMI_median_closest_measure_date_to_collect_date >= 25) & (data$BMI_median_closest_measure_date_to_collect_date < 30)] <- 'Overweight'\n",
    "data$BMI_median_closest_measure_date_to_collect_date_category[data$BMI_median_closest_measure_date_to_collect_date >= 30] <- 'Obesity'\n",
    "\n",
    "table(data$BMI_median_closest_measure_date_to_collect_date_category)\n",
    "# relocate\n",
    "data <- data %>% relocate(BMI_median_closest_measure_date_to_collect_date_category, .after = BMI_median_closest_measure_date_to_collect_date)"
   ]
  },
  {
   "cell_type": "markdown",
   "id": "485f0360",
   "metadata": {},
   "source": [
    "# Comebine ICS and OCS for Corticosteroids"
   ]
  },
  {
   "cell_type": "code",
   "execution_count": null,
   "id": "62dc568f",
   "metadata": {},
   "outputs": [],
   "source": [
    "# remove patients without ICS\n",
    "sum(is.na(data$Any_ICS_Medication_Existence_Yes_No))"
   ]
  },
  {
   "cell_type": "code",
   "execution_count": null,
   "id": "fde1ddc3",
   "metadata": {},
   "outputs": [],
   "source": [
    "ics.5y <- data$ICS_total_number_of_prescriptions_within_5y\n",
    "ocs.5y <- data$OCS_total_number_of_prescriptions_within_5y"
   ]
  },
  {
   "cell_type": "code",
   "execution_count": null,
   "id": "264e9008",
   "metadata": {},
   "outputs": [],
   "source": [
    "typeof(ics.5y)\n",
    "typeof(ocs.5y)"
   ]
  },
  {
   "cell_type": "code",
   "execution_count": null,
   "id": "e986af23",
   "metadata": {},
   "outputs": [],
   "source": [
    "sum(is.na(ics.5y)) # 37\n",
    "sum(is.na(ocs.5y)) # 221"
   ]
  },
  {
   "cell_type": "code",
   "execution_count": null,
   "id": "04ccc60e",
   "metadata": {},
   "outputs": [],
   "source": [
    "# replace NA values with 0 using is.na()\n",
    "ics.5y[is.na(ics.5y)] <- 0\n",
    "ocs.5y[is.na(ocs.5y)] <- 0"
   ]
  },
  {
   "cell_type": "code",
   "execution_count": null,
   "id": "9ff8dec5",
   "metadata": {},
   "outputs": [],
   "source": [
    "# add ICS and OCS\n",
    "corti.5y <- ics.5y + ocs.5y\n",
    "summary(corti.5y)"
   ]
  },
  {
   "cell_type": "code",
   "execution_count": null,
   "id": "288940a5",
   "metadata": {},
   "outputs": [],
   "source": [
    "data$Corticosteroids_total_number_of_prescriptions_within_5y <- corti.5y"
   ]
  },
  {
   "cell_type": "code",
   "execution_count": null,
   "id": "f700886c",
   "metadata": {},
   "outputs": [],
   "source": [
    "# five years before plasma collection\n",
    "ics.5y.bef <- data$ICS_total_number_of_prescriptions_5y_bef_plasma_collect\n",
    "ocs.5y.bef <- data$OCS_total_number_of_prescriptions_5y_bef_plasma_collect\n",
    "\n",
    "sum(is.na(ics.5y.bef)) # 55\n",
    "sum(is.na(ocs.5y.bef)) # 370\n",
    "\n",
    "\n",
    "# replace NA values with 0 using is.na()\n",
    "ics.5y.bef[is.na(ics.5y.bef)] <- 0\n",
    "ocs.5y.bef[is.na(ocs.5y.bef)] <- 0\n",
    "\n",
    "# add ICS and OCS\n",
    "corti.5y.bef <- ics.5y.bef + ocs.5y.bef\n",
    "summary(corti.5y.bef)\n",
    "\n",
    "data$Corticosteroids_total_number_of_prescriptions_5y_bef_plasma_collect <- corti.5y.bef"
   ]
  },
  {
   "cell_type": "code",
   "execution_count": null,
   "id": "90a8c93a",
   "metadata": {},
   "outputs": [],
   "source": [
    "# check empty value (Empty value = no record)\n",
    "existence.cols <- colnames(data %>% select(matches('Existence_Yes_No')))\n",
    "# summary statistic of diagnosis existence\n",
    "for (i in c(1:length(existence.cols))){\n",
    "    print(existence.cols[i])\n",
    "    print(table(data[,existence.cols[i]]))\n",
    "}"
   ]
  },
  {
   "cell_type": "code",
   "execution_count": null,
   "id": "33903c9f",
   "metadata": {},
   "outputs": [],
   "source": [
    "# change empty value in existence columns to NO\n",
    "for (i in c(1:length(existence.cols))){\n",
    "    data[,existence.cols[i]][is.na(data[,existence.cols[i]])] <- 'No'\n",
    "}  "
   ]
  },
  {
   "cell_type": "code",
   "execution_count": null,
   "id": "6554a39c",
   "metadata": {},
   "outputs": [],
   "source": [
    "# check table of all existence columns\n",
    "for (i in c(1:length(existence.cols))){\n",
    "    print(existence.cols[i])\n",
    "    print(table(data[,existence.cols[i]]))\n",
    "}"
   ]
  },
  {
   "cell_type": "code",
   "execution_count": null,
   "id": "f0336dec",
   "metadata": {},
   "outputs": [],
   "source": [
    "write.csv(data, file.path(cleaned.rpdr.dir, 'RPDR-pheno.csv'), row.names = FALSE)"
   ]
  },
  {
   "cell_type": "code",
   "execution_count": null,
   "id": "5c2f6c01",
   "metadata": {},
   "outputs": [],
   "source": [
    "data.dictionary <- data.frame(colnames(data))\n",
    "colnames(data.dictionary) <- c('Variable_Name')\n",
    "head(data.dictionary)"
   ]
  },
  {
   "cell_type": "code",
   "execution_count": null,
   "id": "79afe485",
   "metadata": {},
   "outputs": [],
   "source": [
    "write.csv(data.dictionary, file.path(data.dir, 'RPDR-Data-Dictionary.csv'), row.names = FALSE)"
   ]
  },
  {
   "cell_type": "code",
   "execution_count": null,
   "id": "96853c47",
   "metadata": {},
   "outputs": [],
   "source": []
  },
  {
   "cell_type": "code",
   "execution_count": null,
   "id": "84e5b3a3",
   "metadata": {},
   "outputs": [],
   "source": []
  }
 ],
 "metadata": {
  "kernelspec": {
   "display_name": "R",
   "language": "R",
   "name": "ir"
  },
  "language_info": {
   "codemirror_mode": "r",
   "file_extension": ".r",
   "mimetype": "text/x-r-source",
   "name": "R",
   "pygments_lexer": "r",
   "version": "4.1.0"
  }
 },
 "nbformat": 4,
 "nbformat_minor": 5
}
