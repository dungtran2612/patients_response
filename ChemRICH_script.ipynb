{
 "cells": [
  {
   "cell_type": "code",
   "execution_count": null,
   "id": "91552cb9",
   "metadata": {},
   "outputs": [],
   "source": [
    "# Load R packages\n",
    "library(dplyr)\n",
    "packageVersion('dplyr')\n",
    "library(tidyverse)\n",
    "packageVersion('tidyverse')\n",
    "library(xlsx)\n",
    "packageVersion('xlsx')"
   ]
  },
  {
   "cell_type": "code",
   "execution_count": null,
   "id": "e3b03483",
   "metadata": {},
   "outputs": [],
   "source": [
    "# Data directory\n",
    "project.dir = '...'\n",
    "data.dir = '...'\n",
    "results.dir = '...'"
   ]
  },
  {
   "cell_type": "markdown",
   "id": "e13f501c",
   "metadata": {},
   "source": [
    "# Prepare input file"
   ]
  },
  {
   "cell_type": "code",
   "execution_count": null,
   "id": "76605669",
   "metadata": {},
   "outputs": [],
   "source": [
    "# load linear regression models result\n",
    "linear.square <- read.csv(file.path(results.dir, 'linear_regression_cortisol_result.csv'))\n",
    "dim(linear.square)\n",
    "head(linear.square)"
   ]
  },
  {
   "cell_type": "code",
   "execution_count": null,
   "id": "e1330b5c",
   "metadata": {},
   "outputs": [],
   "source": [
    "# select columns for input file\n",
    "linear.square.sel.cols <- linear.square %>% select(CHEMICAL_NAME, SMILES, p.metabolite, beta.coef.mets, SUB_PATHWAY)\n",
    "head(linear.square.sel.cols)"
   ]
  },
  {
   "cell_type": "code",
   "execution_count": null,
   "id": "89a58cc7",
   "metadata": {},
   "outputs": [],
   "source": [
    "# check missing value of SMILES\n",
    "colSums(is.na(linear.square.sel.cols))"
   ]
  },
  {
   "cell_type": "code",
   "execution_count": null,
   "id": "d09df78c",
   "metadata": {},
   "outputs": [],
   "source": [
    "linear.square.sel.cols %>% filter(is.na(linear.square.sel.cols$SMILES)) # because cis and trans"
   ]
  },
  {
   "cell_type": "code",
   "execution_count": null,
   "id": "3020d618",
   "metadata": {},
   "outputs": [],
   "source": [
    "# aconitate [cis or trans] SMILES C(/C(=C\\C(=O)O)/C(=O)O)C(=O)O\n",
    "linear.square.sel.cols$SMILES[linear.square.sel.cols$CHEMICAL_NAME == 'aconitate [cis or trans]'] <- 'C(/C(=C\\\\C(=O)O)/C(=O)O)C(=O)O'\n",
    "linear.square.sel.cols %>% filter(CHEMICAL_NAME == 'aconitate [cis or trans]')"
   ]
  },
  {
   "cell_type": "code",
   "execution_count": null,
   "id": "bee7cd29",
   "metadata": {},
   "outputs": [],
   "source": [
    "# check missing value of SMILES\n",
    "colSums(is.na(linear.square.sel.cols))"
   ]
  },
  {
   "cell_type": "code",
   "execution_count": null,
   "id": "26f9fa01",
   "metadata": {},
   "outputs": [],
   "source": [
    "# find duplicated SMILES ID\n",
    "linear.square.sel.cols['dup'] <- duplicated(linear.square.sel.cols$SMILES)\n",
    "table(linear.square.sel.cols$dup) # 6 duplicated SMILES"
   ]
  },
  {
   "cell_type": "code",
   "execution_count": null,
   "id": "4d4bce1f",
   "metadata": {},
   "outputs": [],
   "source": [
    "# remove duplicated SMILS IDs\n",
    "count.dup.ID <- as.data.frame(table(linear.square.sel.cols$SMILES))\n",
    "colnames(count.dup.ID) <- c('SMILES', 'freq.SMILES')\n",
    "\n",
    "linear.square.sel.cols <- merge(linear.square.sel.cols, count.dup.ID, \n",
    "                                by = 'SMILES')\n",
    "linear.square.sel.cols <- linear.square.sel.cols %>% arrange(SMILES, p.metabolite) %>%\n",
    "                                        group_by(SMILES) %>% \n",
    "                                        mutate(pval_rank = rank(p.metabolite)) %>%\n",
    "                                        arrange(pval_rank) %>%\n",
    "                                        as.data.frame()\n",
    "\n",
    "linear.square.sel.cols <- linear.square.sel.cols %>% \n",
    "                          filter(pval_rank == '1') #filter out any dup smiles with higher p value\n",
    "dim(linear.square.sel.cols)\n",
    "head(linear.square.sel.cols)"
   ]
  },
  {
   "cell_type": "code",
   "execution_count": null,
   "id": "ceb1b06e",
   "metadata": {},
   "outputs": [],
   "source": [
    "# remove duplicated columns\n",
    "linear.square.sel.cols <- linear.square.sel.cols[!names(linear.square.sel.cols) %in% c('dup','freq.SMILES','pval_rank')]\n",
    "dim(linear.square.sel.cols)\n",
    "head(linear.square.sel.cols)"
   ]
  },
  {
   "cell_type": "code",
   "execution_count": null,
   "id": "347e88e7",
   "metadata": {},
   "outputs": [],
   "source": [
    "# relocate column of metabolite name to front\n",
    "linear.square.sel.cols <- linear.square.sel.cols %>% relocate(CHEMICAL_NAME, .before = SMILES) \n",
    "head(linear.square.sel.cols)"
   ]
  },
  {
   "cell_type": "code",
   "execution_count": null,
   "id": "0fbeb9de",
   "metadata": {},
   "outputs": [],
   "source": [
    "# rename colnames\n",
    "colnames(linear.square.sel.cols) <- c('compound_name', 'smiles', 'pvalue', 'effect_size', 'set')\n",
    "head(linear.square.sel.cols)"
   ]
  },
  {
   "cell_type": "code",
   "execution_count": null,
   "id": "ff99502d",
   "metadata": {},
   "outputs": [],
   "source": [
    "# save data\n",
    "write.xlsx(linear.square.sel.cols, file.path(project.dir, 'chemrich_input_imputed_metabolon.xlsx'), row.names = F)"
   ]
  },
  {
   "cell_type": "markdown",
   "id": "1f0716cf",
   "metadata": {},
   "source": [
    "# Run ChemRICH"
   ]
  },
  {
   "cell_type": "code",
   "execution_count": null,
   "id": "5b2d373b",
   "metadata": {},
   "outputs": [],
   "source": [
    "# chemrich\n",
    "# Load the scripts.\n",
    "source('chemrich_chemical_classes.R')\n",
    "source('predict_mesh_chemical_class.R')\n",
    "load.ChemRICH.Packages()"
   ]
  },
  {
   "cell_type": "code",
   "execution_count": null,
   "id": "a711ff59",
   "metadata": {},
   "outputs": [],
   "source": [
    "# output files are saved in ChemRICH folder\n",
    "run_chemrich_chemical_classes(file.path(project.dir, 'chemrich_input_imputed_metabolon.xlsx'))"
   ]
  },
  {
   "cell_type": "markdown",
   "id": "95eb93a8",
   "metadata": {},
   "source": [
    "***Supplemental Figure 1: chemrich_class_impact_plot***"
   ]
  },
  {
   "cell_type": "markdown",
   "id": "f38ce9f0",
   "metadata": {},
   "source": [
    "# Check result"
   ]
  },
  {
   "cell_type": "code",
   "execution_count": null,
   "id": "06d5629b",
   "metadata": {},
   "outputs": [],
   "source": [
    "chemrich.output <- file.path(project.dir,'chemRICH_class_results.xlsx')\n",
    "excel_sheets(path = chemrich.output)"
   ]
  },
  {
   "cell_type": "code",
   "execution_count": null,
   "id": "2aece65a",
   "metadata": {},
   "outputs": [],
   "source": [
    "# load cluster result\n",
    "cluster <- read_excel(file.path(project.dir,'chemRICH_class_results.xlsx'), sheet = 'ChemRICH_Results')\n",
    "dim(cluster)\n",
    "head(cluster)"
   ]
  },
  {
   "cell_type": "code",
   "execution_count": null,
   "id": "90924e99",
   "metadata": {},
   "outputs": [],
   "source": [
    "# Table 4: significant cluster (FDR)\n",
    "sig.cluster <- cluster %>% filter(FDR < 0.05) %>% arrange(FDR)\n",
    "sig.cluster"
   ]
  },
  {
   "cell_type": "code",
   "execution_count": null,
   "id": "27391d17",
   "metadata": {},
   "outputs": [],
   "source": [
    "# significant cluster (nominal)\n",
    "nominal.sig.cluster <- cluster %>% filter(`p-values` < 0.05) %>% arrange(FDR)\n",
    "nominal.sig.cluster"
   ]
  },
  {
   "cell_type": "code",
   "execution_count": null,
   "id": "91f09c81",
   "metadata": {},
   "outputs": [],
   "source": [
    "# load compound result\n",
    "compound <- read_excel(file.path(project.dir,'chemRICH_class_results.xlsx'), sheet = 'Compound_ChemRICH')\n",
    "dim(compound)\n",
    "head(compound)"
   ]
  },
  {
   "cell_type": "code",
   "execution_count": null,
   "id": "226e659a",
   "metadata": {},
   "outputs": [],
   "source": [
    "# significant compound(FDR)\n",
    "sig.compound <- compound %>% filter(FDR < 0.05) %>% arrange(FDR)\n",
    "sig.compound"
   ]
  },
  {
   "cell_type": "code",
   "execution_count": null,
   "id": "494b65f8",
   "metadata": {},
   "outputs": [],
   "source": []
  }
 ],
 "metadata": {
  "kernelspec": {
   "display_name": "R",
   "language": "R",
   "name": "ir"
  },
  "language_info": {
   "codemirror_mode": "r",
   "file_extension": ".r",
   "mimetype": "text/x-r-source",
   "name": "R",
   "pygments_lexer": "r",
   "version": "4.1.0"
  }
 },
 "nbformat": 4,
 "nbformat_minor": 5
}
