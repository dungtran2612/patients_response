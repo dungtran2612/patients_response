{
 "cells": [
  {
   "cell_type": "code",
   "execution_count": null,
   "id": "b2b1fb88",
   "metadata": {},
   "outputs": [],
   "source": [
    "# load R packages\n",
    "library(dplyr)\n",
    "packageVersion('dplyr')\n",
    "library(ggplot2)\n",
    "packageVersion('ggplot2')\n",
    "library(lm.beta)\n",
    "packageVersion('lm.beta')\n",
    "library(moments)\n",
    "packageVersion('moments')\n",
    "library(forcats)\n",
    "packageVersion('forcats')\n",
    "library(readxl)\n",
    "packageVersion('readxl')"
   ]
  },
  {
   "cell_type": "code",
   "execution_count": null,
   "id": "4e570747",
   "metadata": {},
   "outputs": [],
   "source": [
    "# set directory\n",
    "project.dir = '...'\n",
    "data.dir = '...'\n",
    "results.dir = '...'\n",
    "regeps.dir = '...'\n",
    "mets.dir = file.path(regeps.dir, '...')"
   ]
  },
  {
   "cell_type": "code",
   "execution_count": null,
   "id": "f53c1f9d",
   "metadata": {},
   "outputs": [],
   "source": [
    "# load phenotype and metabolomics data\n",
    "data <- read.csv(file.path(data.dir, 'pheno_met.csv'))\n",
    "dim(data)\n",
    "length(unique(data$Subject_Id)) # 711"
   ]
  },
  {
   "cell_type": "code",
   "execution_count": null,
   "id": "9ae7d6c4",
   "metadata": {},
   "outputs": [],
   "source": [
    "# create result array to store linear regression result\n",
    "result.array <- data.frame(matrix(ncol=56, nrow=0))\n",
    "colnames(result.array) <- c('i','metabolite',\n",
    "                            'p.metabolite','std.metabolite','est.metabolite',\n",
    "                            'p.age','std.age', 'est.age', \n",
    "                            'p.male', 'std.male', 'est.male',\n",
    "                            'p.white', 'std.white', 'est.white',\n",
    "                            'p.smoke.former', 'std.smoke.former', 'est.smoke.former',\n",
    "                            'p.smoke.never', 'std.smoke.never', 'est.smoke.never',\n",
    "                            'p.bmi.obe', 'std.bmi.obe', 'est.bmi.obe',\n",
    "                            'p.bmi.over', 'std.bmi.over', 'est.bmi.over',\n",
    "                            'p.bmi.under', 'std.bmi.under', 'est.bmi.under', \n",
    "                            'p.corti', 'std.corti', 'est.corti',\n",
    "                            'p.ics.dose.1.5', 'std.ics.dose.1.5', 'est.ics.dose.1.5',\n",
    "                            'p.ics.dose.2', 'std.ics.dose.2', 'est.ics.dose.2',\n",
    "                            'p.cor.quar.2', 'std.cor.quar.2', 'est.cor.quar.2',\n",
    "                            'p.cor.quar.3', 'std.cor.quar.3', 'est.cor.quar.3',\n",
    "                            'p.cor.quar.4', 'std.cor.quar.4', 'est.cor.quar.4',\n",
    "                            'p.bron', 'std.bron', 'est.bron',\n",
    "                            'p.chr.bron', 'std.chr.bron', 'est.chr.bron', \n",
    "                            'beta.coef.mets','lower.confi.mets','upper.confi.mets')"
   ]
  },
  {
   "cell_type": "code",
   "execution_count": null,
   "id": "7aaa54e9",
   "metadata": {},
   "outputs": [],
   "source": [
    "which(colnames(data)== \"M35\") # 1st metabolite column"
   ]
  },
  {
   "cell_type": "code",
   "execution_count": null,
   "id": "54ff5224",
   "metadata": {},
   "outputs": [],
   "source": [
    "# calculate standard deviation for confidence interval\n",
    "cortisol.std <- sd(data$Cortisol_min_value_closest_measure_date_to_collect_date_square)\n",
    "cortisol.std"
   ]
  },
  {
   "cell_type": "code",
   "execution_count": null,
   "id": "f0e0327d",
   "metadata": {
    "scrolled": true
   },
   "outputs": [],
   "source": [
    "# run loop of linear model\n",
    "for (i in 17:ncol(data)) {   #loop through each column             \n",
    "    chem.name <- colnames(data)[i]   #name of chemical i\n",
    "    metabolite.std <- sd(data[,i])\n",
    "    glm.fit.all <- glm(Cortisol_min_value_closest_measure_date_to_collect_date_square ~ data[,i] + \n",
    "                       Age_at_plasma_collection_date + \n",
    "                       as.factor(Gender_impute_all) +\n",
    "                       as.factor(Race_White_KNN_impute_missing) +\n",
    "                       as.factor(Closest_collect_date_smoking_status)  +\n",
    "                       as.factor(BMI_median_closest_measure_date_to_collect_date_category)  +\n",
    "                       Corticosteroids_total_number_of_prescriptions_within_5y_log  +\n",
    "                       as.factor(ICS_Dose_Classification_5Y_Median)  +\n",
    "                       as.factor(Cortisol_closest_date_collect_date_gap_abs_quartile) +\n",
    "                       as.factor(Any_Bronchiectasis_Existence_Yes_No)  +\n",
    "                       as.factor(Any_Chronic_Bronchitis_Existence_Yes_No), family = 'gaussian', data = data) # fitmodel\n",
    "    \n",
    "    coefs <- coef(summary(glm.fit.all)) # get model coefficient and p-value\n",
    "    beta.coefs <- coef(lm.beta(glm.fit.all)) # get beta coefs of model\n",
    "    confi.int <- confint(glm.fit.all) # get confidence interval of model\n",
    "    \n",
    "    if (nrow(coefs) > 1) {\n",
    "          p.metabolite <- coef(summary(glm.fit.all))[2,4]\n",
    "          std.metabolite <- coef(summary(glm.fit.all))[2,2]\n",
    "          est.metabolite <- coef(summary(glm.fit.all))[2,1]\n",
    "\n",
    "          p.age <- coef(summary(glm.fit.all))[3,4]\n",
    "          std.age <- coef(summary(glm.fit.all))[3,2]\n",
    "          est.age <- coef(summary(glm.fit.all))[3,1]\n",
    "\n",
    "          p.male <- coef(summary(glm.fit.all))[4,4]\n",
    "          std.male <- coef(summary(glm.fit.all))[4,2]\n",
    "          est.male <- coef(summary(glm.fit.all))[4,1]\n",
    "        \n",
    "          p.white <- coef(summary(glm.fit.all))[5,4]\n",
    "          std.white <- coef(summary(glm.fit.all))[5,2]\n",
    "          est.white <- coef(summary(glm.fit.all))[5,1]\n",
    "      \n",
    "          p.smoke.former <- coef(summary(glm.fit.all))[6,4]\n",
    "          std.smoke.former <- coef(summary(glm.fit.all))[6,2]\n",
    "          est.smoke.former <- coef(summary(glm.fit.all))[6,1]\n",
    "\n",
    "          p.smoke.never <- coef(summary(glm.fit.all))[7,4]\n",
    "          std.smoke.never <- coef(summary(glm.fit.all))[7,2]\n",
    "          est.smoke.never <- coef(summary(glm.fit.all))[7,1]\n",
    "\n",
    "          p.bmi.obe <- coef(summary(glm.fit.all))[8,4]\n",
    "          std.bmi.obe <- coef(summary(glm.fit.all))[8,2]\n",
    "          est.bmi.obe <- coef(summary(glm.fit.all))[8,1]\n",
    "       \n",
    "          p.bmi.over <- coef(summary(glm.fit.all))[9,4]\n",
    "          std.bmi.over <- coef(summary(glm.fit.all))[9,2]\n",
    "          est.bmi.over <- coef(summary(glm.fit.all))[9,1]\n",
    "      \n",
    "          p.bmi.under <- coef(summary(glm.fit.all))[10,4]\n",
    "          std.bmi.under <- coef(summary(glm.fit.all))[10,2]\n",
    "          est.bmi.under <- coef(summary(glm.fit.all))[10,1]\n",
    "        \n",
    "          p.corti <- coef(summary(glm.fit.all))[11,4]\n",
    "          std.corti <- coef(summary(glm.fit.all))[11,2]\n",
    "          est.corti <- coef(summary(glm.fit.all))[11,1]\n",
    "        \n",
    "          p.ics.dose.1.5 <- coef(summary(glm.fit.all))[12,4]\n",
    "          std.ics.dose.1.5 <- coef(summary(glm.fit.all))[12,2]\n",
    "          est.ics.dose.1.5 <- coef(summary(glm.fit.all))[12,1]\n",
    "        \n",
    "          p.ics.dose.2 <- coef(summary(glm.fit.all))[13,4]\n",
    "          std.ics.dose.2 <- coef(summary(glm.fit.all))[13,2]\n",
    "          est.ics.dose.2 <- coef(summary(glm.fit.all))[13,1]\n",
    "        \n",
    "          p.cor.quar.2 <- coef(summary(glm.fit.all))[14,4]\n",
    "          std.cor.quar.2 <- coef(summary(glm.fit.all))[14,2]\n",
    "          est.cor.quar.2 <- coef(summary(glm.fit.all))[14,1]\n",
    "        \n",
    "          p.cor.quar.3 <- coef(summary(glm.fit.all))[15,4]\n",
    "          std.cor.quar.3 <- coef(summary(glm.fit.all))[15,2]\n",
    "          est.cor.quar.3 <- coef(summary(glm.fit.all))[15,1]\n",
    "        \n",
    "          p.cor.quar.4 <- coef(summary(glm.fit.all))[16,4]\n",
    "          std.cor.quar.4 <- coef(summary(glm.fit.all))[16,2]\n",
    "          est.cor.quar.4 <- coef(summary(glm.fit.all))[16,1]\n",
    "        \n",
    "          p.bron <- coef(summary(glm.fit.all))[17,4]\n",
    "          std.bron <- coef(summary(glm.fit.all))[17,2]\n",
    "          est.bron <- coef(summary(glm.fit.all))[17,1]\n",
    "        \n",
    "          p.chr.bron <- coef(summary(glm.fit.all))[18,4]\n",
    "          std.chr.bron <- coef(summary(glm.fit.all))[18,2]\n",
    "          est.chr.bron <- coef(summary(glm.fit.all))[18,1]\n",
    "        \n",
    "        beta.coef.mets <- beta.coefs[2] #get beta coef for metabolite \n",
    "        confi.int[2,] <- confi.int[2,]*(metabolite.std/cortisol.std)\n",
    "        lower.confi.mets <- confi.int[2,1] #get lower confidence interval for metabolite \n",
    "        upper.confi.mets <- confi.int[2,2] #get upper confidence interval for metabolite\n",
    "        \n",
    "      result.array[nrow(result.array) + 1,] <- c(i,chem.name, \n",
    "                                                p.metabolite,std.metabolite,est.metabolite,\n",
    "                                                p.age,std.age, est.age,\n",
    "                                                p.male, std.male, est.male,\n",
    "                                                p.white, std.white, est.white,\n",
    "                                                p.smoke.former, std.smoke.former, est.smoke.former,\n",
    "                                                p.smoke.never, std.smoke.never, est.smoke.never,     \n",
    "                                                p.bmi.obe, std.bmi.obe, est.bmi.obe,\n",
    "                                                p.bmi.over, std.bmi.over, est.bmi.over,\n",
    "                                                p.bmi.under, std.bmi.under, est.bmi.under,   \n",
    "                                                p.corti, std.corti, est.corti,\n",
    "                                                p.ics.dose.1.5, std.ics.dose.1.5, est.ics.dose.1.5,\n",
    "                                                p.ics.dose.2, std.ics.dose.2, est.ics.dose.2,  \n",
    "                                                p.cor.quar.2, std.cor.quar.2, est.cor.quar.2,\n",
    "                                                p.cor.quar.3, std.cor.quar.3, est.cor.quar.3,\n",
    "                                                p.cor.quar.4, std.cor.quar.4, est.cor.quar.4, \n",
    "                                                p.bron, std.bron, est.bron,\n",
    "                                                p.chr.bron, std.chr.bron, est.chr.bron, \n",
    "                                                beta.coef.mets,lower.confi.mets,upper.confi.mets)\n",
    "\n",
    "    } else {\n",
    "      result.array[nrow(result.array) + 1,] <- c(i,chem.name,\n",
    "                                                 NA,NA,NA,\n",
    "                                                 NA,NA,NA,\n",
    "                                                 NA,NA,NA, \n",
    "                                                 NA,NA,NA,\n",
    "                                                 NA,NA,NA,     \n",
    "                                                 NA,NA,NA,           \n",
    "                                                 NA,NA,NA,\n",
    "                                                 NA,NA,NA, \n",
    "                                                 NA,NA,NA,    \n",
    "                                                 NA,NA,NA,\n",
    "                                                 NA,NA,NA,\n",
    "                                                 NA,NA,NA,     \n",
    "                                                 NA,NA,NA,\n",
    "                                                 NA,NA,NA,\n",
    "                                                 NA,NA,NA,  \n",
    "                                                 NA,NA,NA,\n",
    "                                                 NA,NA,NA,\n",
    "                                                 NA,NA,NA)\n",
    "    }\n",
    "  }"
   ]
  },
  {
   "cell_type": "code",
   "execution_count": null,
   "id": "56577431",
   "metadata": {},
   "outputs": [],
   "source": [
    "# change character value (except med id) to numeric\n",
    "result.array.cols <- c('p.metabolite','std.metabolite','est.metabolite',\n",
    "                        'p.age','std.age', 'est.age', \n",
    "                        'p.male', 'std.male', 'est.male',\n",
    "                        'p.white', 'std.white', 'est.white',\n",
    "                        'p.smoke.former', 'std.smoke.former', 'est.smoke.former',\n",
    "                        'p.smoke.never', 'std.smoke.never', 'est.smoke.never',\n",
    "                        'p.bmi.obe', 'std.bmi.obe', 'est.bmi.obe',\n",
    "                        'p.bmi.over', 'std.bmi.over', 'est.bmi.over',\n",
    "                        'p.bmi.under', 'std.bmi.under', 'est.bmi.under', \n",
    "                        'p.corti', 'std.corti', 'est.corti',\n",
    "                        'p.ics.dose.1.5', 'std.ics.dose.1.5', 'est.ics.dose.1.5',\n",
    "                        'p.ics.dose.2', 'std.ics.dose.2', 'est.ics.dose.2',\n",
    "                        'p.cor.quar.2', 'std.cor.quar.2', 'est.cor.quar.2',\n",
    "                        'p.cor.quar.3', 'std.cor.quar.3', 'est.cor.quar.3',\n",
    "                        'p.cor.quar.4', 'std.cor.quar.4', 'est.cor.quar.4',\n",
    "                        'p.bron', 'std.bron', 'est.bron',\n",
    "                        'p.chr.bron', 'std.chr.bron', 'est.chr.bron', \n",
    "                        'beta.coef.mets','lower.confi.mets','upper.confi.mets')\n",
    "\n",
    "for (col in result.array.cols){\n",
    "    result.array[[col]] <- as.numeric(result.array[[col]])\n",
    "}\n",
    "head(result.array)"
   ]
  },
  {
   "cell_type": "code",
   "execution_count": null,
   "id": "ec56a1de",
   "metadata": {},
   "outputs": [],
   "source": [
    "# filter nominally significant variables\n",
    "raw.p.cols <- c('p.metabolite','p.age','p.male','p.white',\n",
    "                'p.smoke.former','p.smoke.never','p.bmi.obe','p.bmi.over',\n",
    "                'p.bmi.under','p.corti','p.ics.dose.1.5', 'p.ics.dose.2', 'p.cor.quar.2',\n",
    "                'p.cor.quar.3','p.cor.quar.4','p.bron','p.chr.bron')\n",
    "for (col in raw.p.cols){\n",
    "    print(dim(result.array %>% filter(result.array[[col]] < 0.05)))\n",
    "}"
   ]
  },
  {
   "cell_type": "code",
   "execution_count": null,
   "id": "01325460",
   "metadata": {},
   "outputs": [],
   "source": [
    "# calculate FDR adjusted p value of nominally significant variables \n",
    "for (col in raw.p.cols) {\n",
    "  column.name <- paste0(col, \".adj\")\n",
    "  result.array[[column.name]] <- p.adjust(result.array[[col]], method = 'fdr')\n",
    "}"
   ]
  },
  {
   "cell_type": "code",
   "execution_count": null,
   "id": "12186d15",
   "metadata": {},
   "outputs": [],
   "source": [
    "# check significance based on FDR\n",
    "adj.p.cols <- c('p.metabolite.adj','p.age.adj','p.bmi.obe.adj','p.corti.adj','p.ics.dose.2.adj', 'p.cor.quar.3.adj')\n",
    "for (col in adj.p.cols){\n",
    "    result.array[[col]] <- as.numeric(result.array[[col]])\n",
    "}\n",
    "head(result.array)"
   ]
  },
  {
   "cell_type": "code",
   "execution_count": null,
   "id": "2ba9d86f",
   "metadata": {},
   "outputs": [],
   "source": [
    "# load metabolite info to have chemical name\n",
    "mets.info <- read_excel(file.path(mets.dir,\"BRIG-02-22PHML+ DATA TABLES.XLSX\"), sheet = \"Chemical Annotation\")\n",
    "# add one more column: met_id\n",
    "mets.info$metabolite <- paste('M', mets.info$CHEM_ID, sep = '')\n",
    "mets.info <- mets.info %>% select(COMP_ID, SUPER_PATHWAY, SUB_PATHWAY, CHEMICAL_NAME,\n",
    "                                  HMDB, KEGG, PUBCHEM, SMILES, INCHIKEY, metabolite)"
   ]
  },
  {
   "cell_type": "code",
   "execution_count": null,
   "id": "063a3f40",
   "metadata": {},
   "outputs": [],
   "source": [
    "# merge files\n",
    "linear.model.result.all <- result.array %>% left_join(mets.info, by = 'metabolite')\n",
    "dim(linear.model.result.all)\n",
    "head(linear.model.result.all)"
   ]
  },
  {
   "cell_type": "code",
   "execution_count": null,
   "id": "3ee05323",
   "metadata": {},
   "outputs": [],
   "source": [
    "write.csv(linear.model.result.all, file.path(results.dir, 'linear_regression_cortisol_result.csv'), row.names = FALSE)"
   ]
  },
  {
   "cell_type": "code",
   "execution_count": null,
   "id": "8601a4fb",
   "metadata": {},
   "outputs": [],
   "source": [
    "# Proportion of sub-pathways in metabolomics data\n",
    "super.pathway.all.prop <- data.frame(table(linear.model.result.all$SUPER_PATHWAY)*100 / nrow(linear.model.result.all))\n",
    "colnames(super.pathway.all.prop) <- c('Super_Pathway', 'Proportion')\n",
    "super.pathway.all.prop$Proportion = round(super.pathway.all.prop$Proportion, digits = 2)"
   ]
  },
  {
   "cell_type": "code",
   "execution_count": null,
   "id": "fa7843e4",
   "metadata": {},
   "outputs": [],
   "source": [
    "# pie chart of all metabolites\n",
    "super.pathway.pie <- ggplot(super.pathway.all.prop, aes(x = '', y=Proportion, fill = Super_Pathway)) +\n",
    "  geom_bar(stat=\"identity\", width=1, color=\"white\") +\n",
    "  coord_polar(\"y\", start=0) + theme_void() +\n",
    "  geom_text(aes(label = paste(Proportion, '%'), x = 1.7),position = position_stack(vjust = 0.5), \n",
    "                                                        size = 5, color ='black') +\n",
    "  theme(legend.title = element_text(size=16), #change legend title font size\n",
    "        legend.text = element_text(size=12))\n",
    "\n",
    "super.pathway.pie + scale_fill_brewer(palette='Dark2')"
   ]
  },
  {
   "cell_type": "code",
   "execution_count": null,
   "id": "863e1649",
   "metadata": {},
   "outputs": [],
   "source": [
    "# significant metabolites based on FDR adjusted p value\n",
    "sig.mets.fdr <- linear.model.result.all %>% filter(p.metabolite.adj < 0.05) %>% \n",
    "                 arrange(p.metabolite.adj)# 12\n",
    "dim(sig.mets.fdr)"
   ]
  },
  {
   "cell_type": "code",
   "execution_count": null,
   "id": "6fd7a0c4",
   "metadata": {
    "scrolled": true
   },
   "outputs": [],
   "source": [
    "# Figure 2: Beta coefficients with confidence interval of metabolites associated with adrenal suppression\n",
    "sig.mets.fdr.beta.coef <- sig.mets.fdr %>%\n",
    "                mutate(CHEMICAL_NAME = fct_reorder(CHEMICAL_NAME, desc(SUB_PATHWAY))) %>% \n",
    "                ggplot(aes(x = beta.coef.mets, y = CHEMICAL_NAME, group = SUB_PATHWAY, color = SUB_PATHWAY)) + \n",
    "                geom_errorbarh(aes(xmax = upper.confi.mets, xmin = lower.confi.mets), \n",
    "                   size = .8, height = .5) +\n",
    "                geom_point(size = 2, color = 'black') +\n",
    "                geom_vline(aes(xintercept = 0), size = .5, linetype = 'dashed') +\n",
    "                scale_x_continuous(limits = c(-0.05, 0.4)) +\n",
    "                theme_bw()+\n",
    "                theme(panel.grid.minor = element_blank()) +\n",
    "                theme(axis.text=element_text(size=13),\n",
    "                      axis.title=element_text(size=12,face='bold'),\n",
    "                      panel.spacing = unit(-10, 'lines'),\n",
    "                      legend.text = element_text(size = 8)) + \n",
    "                ylab('') +\n",
    "                xlab('\\nBeta coefficient')\n",
    "sig.mets.fdr.beta.coef\n",
    "ggsave('beta_coefficicent_significant_metabolites.tiff', path = results.dir, \n",
    "       width = 10, height = 5, dpi=700)"
   ]
  },
  {
   "cell_type": "code",
   "execution_count": null,
   "id": "72e22cc3",
   "metadata": {},
   "outputs": [],
   "source": [
    "# Table 2: Plasma metabolites significantly associated with adrenal suppression \n",
    "sig.mets.fdr.1 <- sig.mets.fdr %>% select(CHEMICAL_NAME, SUPER_PATHWAY, SUB_PATHWAY, beta.coef.mets, lower.confi.mets, \n",
    "                        upper.confi.mets, p.metabolite.adj)\n",
    "# round up number in table 2\n",
    "sig.mets.fdr.2 <- sig.mets.fdr.1 %>% mutate_at(vars(beta.coef.mets, lower.confi.mets, upper.confi.mets), list(~ round(., 2)))\n",
    "sig.mets.fdr.2"
   ]
  },
  {
   "cell_type": "code",
   "execution_count": null,
   "id": "3952f5e7",
   "metadata": {},
   "outputs": [],
   "source": [
    "write.csv(sig.mets.fdr.2, file.path(results.dir, 'significant_metabolites_adrenal_suppression.csv'), row.names = FALSE)"
   ]
  },
  {
   "cell_type": "markdown",
   "id": "deb91fbd",
   "metadata": {},
   "source": [
    "**Nominally significant metabolites using raw p value**"
   ]
  },
  {
   "cell_type": "code",
   "execution_count": null,
   "id": "bd8c7f09",
   "metadata": {},
   "outputs": [],
   "source": [
    "# use threshold of unadjusted p value < 0.05\n",
    "nominal.sig.mets <- linear.model.result.all %>% filter(p.metabolite < 0.05) %>% \n",
    "                 arrange(p.metabolite)# 103\n",
    "nominal.sig.mets"
   ]
  },
  {
   "cell_type": "code",
   "execution_count": null,
   "id": "0d345cef",
   "metadata": {},
   "outputs": [],
   "source": [
    "# proportion of sub-pathway of nominally significant metabolites\n",
    "super.pathway.all.prop <- data.frame(table(nominal.sig.mets$SUPER_PATHWAY)*100 / nrow(nominal.sig.mets))\n",
    "colnames(super.pathway.all.prop) <- c('Super_Pathway', 'Proportion')\n",
    "super.pathway.all.prop$Proportion = round(super.pathway.all.prop$Proportion, digits = 2)"
   ]
  },
  {
   "cell_type": "code",
   "execution_count": null,
   "id": "adbb397a",
   "metadata": {
    "scrolled": true
   },
   "outputs": [],
   "source": [
    "# pie chart\n",
    "super.pathway.pie <- ggplot(super.pathway.all.prop, aes(x = '', y=Proportion, fill = Super_Pathway)) +\n",
    "  geom_bar(stat=\"identity\", width=1, color=\"white\") +\n",
    "  coord_polar(\"y\", start=0) + theme_void() +\n",
    "  geom_text(aes(label = paste(Proportion, '%'), x = 1.2),position = position_stack(vjust = 0.8), \n",
    "                                                        size = 5.5, color ='white') +\n",
    "  theme(legend.title = element_text(size=16), #change legend title font size\n",
    "        legend.text = element_text(size=12))\n",
    "\n",
    "super.pathway.pie + scale_fill_brewer(palette='Dark2')"
   ]
  },
  {
   "cell_type": "code",
   "execution_count": null,
   "id": "b417f65b",
   "metadata": {},
   "outputs": [],
   "source": [
    "# Supplemental Table 1: Summary of metabolites associations with cortisol levels \n",
    "write.csv(nominal.sig.mets, file.path(results.dir, 'nominally_significant_metabolites_adrenal_suppression.csv'), row.names = FALSE)"
   ]
  },
  {
   "cell_type": "code",
   "execution_count": null,
   "id": "25e250a6",
   "metadata": {},
   "outputs": [],
   "source": []
  }
 ],
 "metadata": {
  "kernelspec": {
   "display_name": "R",
   "language": "R",
   "name": "ir"
  },
  "language_info": {
   "codemirror_mode": "r",
   "file_extension": ".r",
   "mimetype": "text/x-r-source",
   "name": "R",
   "pygments_lexer": "r",
   "version": "4.1.0"
  }
 },
 "nbformat": 4,
 "nbformat_minor": 5
}
