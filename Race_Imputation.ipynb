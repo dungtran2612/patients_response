{
 "cells": [
  {
   "cell_type": "code",
   "execution_count": null,
   "id": "a4727358",
   "metadata": {},
   "outputs": [],
   "source": [
    "# load library\n",
    "library(data.table)\n",
    "packageVersion('data.table')\n",
    "library(readr)\n",
    "packageVersion('readr')\n",
    "library(dplyr)\n",
    "packageVersion('dplyr')\n",
    "library(stringr)\n",
    "packageVersion('stringr')\n",
    "library(ggplot2)\n",
    "packageVersion('ggplot2')\n",
    "library(tidyr)\n",
    "packageVersion('tidyr')\n",
    "library(caret)\n",
    "packageVersion('caret')"
   ]
  },
  {
   "cell_type": "code",
   "execution_count": null,
   "id": "bdbf9ab5",
   "metadata": {},
   "outputs": [],
   "source": [
    "# set directory\n",
    "data.dir = '...'\n",
    "rpdr.dir = file.path('...')\n",
    "plink1.dir = '...'"
   ]
  },
  {
   "cell_type": "code",
   "execution_count": null,
   "id": "6fb4c3c2",
   "metadata": {},
   "outputs": [],
   "source": [
    "# load race\n",
    "dem <- read.csv(file.path(rpdr.dir, 'Demographic_data.csv'))\n",
    "head(dem)"
   ]
  },
  {
   "cell_type": "code",
   "execution_count": null,
   "id": "e7f973ae",
   "metadata": {},
   "outputs": [],
   "source": [
    "race <- dem %>% select(Subject_Id, Race1, Race2, Race_Group, Race_White)\n",
    "head(race)"
   ]
  },
  {
   "cell_type": "code",
   "execution_count": null,
   "id": "7ff3c99d",
   "metadata": {},
   "outputs": [],
   "source": [
    "columns = c('fid', 'Sample.name', 'pca1', 'pca2', 'pca3', 'pca4', 'pca5', 'pca6','pca7','pca8','pca9','pca10')"
   ]
  },
  {
   "cell_type": "code",
   "execution_count": null,
   "id": "7aee2049",
   "metadata": {},
   "outputs": [],
   "source": [
    "ld.pruned.pca <- read.table(file.path(plink1.dir,'chrs_1_22_poly_SNPs_mind_005_maf_005_hwe_1e-05_pruned_pca.eigenvec'), sep = '',\n",
    "                 header=F, col.names=columns)[,c(1:12)]\n",
    "head(ld.pruned.pca)"
   ]
  },
  {
   "cell_type": "code",
   "execution_count": null,
   "id": "7a05761b",
   "metadata": {},
   "outputs": [],
   "source": [
    "# merge column 1 and 2\n",
    "ld.pruned.pca$sample_info <- paste(ld.pruned.pca$fid, ld.pruned.pca$Sample.name, sep = '_')\n",
    "head(ld.pruned.pca)"
   ]
  },
  {
   "cell_type": "code",
   "execution_count": null,
   "id": "28f6203b",
   "metadata": {},
   "outputs": [],
   "source": [
    "# load id file\n",
    "id <- read.csv(file.path(data.dir, 'genotype_ID.csv'))\n",
    "id <- distinct(id)\n",
    "dim(id)\n",
    "head(id)"
   ]
  },
  {
   "cell_type": "code",
   "execution_count": null,
   "id": "fc33d73a",
   "metadata": {},
   "outputs": [],
   "source": [
    "colnames(id) <- c('Subject_Id', 'sample_info', 'batch')\n",
    "# merge\n",
    "race.698 <- id %>% left_join(race, by = 'Subject_Id')\n",
    "head(race.698)"
   ]
  },
  {
   "cell_type": "code",
   "execution_count": null,
   "id": "b68cf488",
   "metadata": {},
   "outputs": [],
   "source": [
    "ggplot(ld.pruned.pca,aes(x=pca1, y=pca2)) +geom_point() + theme_bw() +xlab('PC1') + ylab('PC2')"
   ]
  },
  {
   "cell_type": "code",
   "execution_count": null,
   "id": "04e97c50",
   "metadata": {},
   "outputs": [],
   "source": [
    "ld.pruned.pca.race <- ld.pruned.pca %>% left_join(race.698, by = 'sample_info')\n",
    "head(ld.pruned.pca.race)"
   ]
  },
  {
   "cell_type": "code",
   "execution_count": null,
   "id": "5ebb0492",
   "metadata": {
    "scrolled": true
   },
   "outputs": [],
   "source": [
    "ggplot(ld.pruned.pca.race, aes(x=pca1, y=pca2, color = Race_Group)) + geom_point() + theme_bw() + xlab('PC1') + ylab('PC2')"
   ]
  },
  {
   "cell_type": "code",
   "execution_count": null,
   "id": "8cf682a0",
   "metadata": {},
   "outputs": [],
   "source": [
    "ggplot(ld.pruned.pca.race, aes(x=pca1, y=pca2, color = Race_White)) + geom_point() + theme_bw() + xlab('PC1') + ylab('PC2')"
   ]
  },
  {
   "cell_type": "code",
   "execution_count": null,
   "id": "9db737a7",
   "metadata": {},
   "outputs": [],
   "source": [
    "table(ld.pruned.pca.race$Race_Group)"
   ]
  },
  {
   "cell_type": "code",
   "execution_count": null,
   "id": "49593d30",
   "metadata": {},
   "outputs": [],
   "source": [
    "eigenvalues <- read.table(file.path(plink1.dir,'chrs_1_22_poly_SNPs_mind_005_maf_005_hwe_1e-05_pruned_pca.eigenval'), header = FALSE)\n",
    "dim(eigenvalues)\n",
    "head(eigenvalues)"
   ]
  },
  {
   "cell_type": "code",
   "execution_count": null,
   "id": "09c2f228",
   "metadata": {},
   "outputs": [],
   "source": [
    "eigenvalues <- eigenvalues$V1\n",
    "eigenvalues\n",
    "\n",
    "pve <- eigenvalues/sum(eigenvalues)\n",
    "pve\n",
    "\n",
    "cumsum(pve)"
   ]
  },
  {
   "cell_type": "code",
   "execution_count": null,
   "id": "52bba794",
   "metadata": {},
   "outputs": [],
   "source": [
    "# Create a data frame for ggplot\n",
    "scree_data <- data.frame(Component = 1:length(eigenvalues), Eigenvalue = eigenvalues)\n",
    "\n",
    "# Plot the scree plot using ggplot\n",
    "ggplot(scree_data, aes(x = Component, y = Eigenvalue)) +\n",
    "  geom_point() +\n",
    "  geom_line() +\n",
    "  labs(title = 'Scree Plot', x = 'Component', y = 'Eigenvalue') +\n",
    "  theme_minimal()"
   ]
  },
  {
   "cell_type": "markdown",
   "id": "aab5ab90",
   "metadata": {},
   "source": [
    "**select 4 PCs for KNN prediciton**"
   ]
  },
  {
   "cell_type": "markdown",
   "id": "8548b559",
   "metadata": {},
   "source": [
    "### KNN prediciton of unknown races"
   ]
  },
  {
   "cell_type": "code",
   "execution_count": null,
   "id": "9f7013b7",
   "metadata": {},
   "outputs": [],
   "source": [
    "# change Unknow to NA\n",
    "table(ld.pruned.pca.race$Race_White)\n",
    "ld.pruned.pca.race$Race_White[ld.pruned.pca.race$Race_White == 'Unknown'] <- NA\n",
    "table(ld.pruned.pca.race$Race_White)"
   ]
  },
  {
   "cell_type": "code",
   "execution_count": null,
   "id": "c8a69e9e",
   "metadata": {
    "scrolled": true
   },
   "outputs": [],
   "source": [
    "train <- ld.pruned.pca.race %>% select('pca1', 'pca2', 'pca3', 'pca4', 'Race_White') %>% filter(!is.na(Race_White))\n",
    "train"
   ]
  },
  {
   "cell_type": "code",
   "execution_count": null,
   "id": "dddaf5b0",
   "metadata": {},
   "outputs": [],
   "source": [
    "test <- ld.pruned.pca.race %>% select('pca1', 'pca2', 'pca3', 'pca4', 'Race_White')\n",
    "test"
   ]
  },
  {
   "cell_type": "code",
   "execution_count": null,
   "id": "c21387df",
   "metadata": {},
   "outputs": [],
   "source": [
    "train[[\"Race_White\"]] = factor(train[[\"Race_White\"]])"
   ]
  },
  {
   "cell_type": "code",
   "execution_count": null,
   "id": "5a762493",
   "metadata": {},
   "outputs": [],
   "source": [
    "trctrl <- trainControl(method = \"repeatedcv\", number = 10, repeats = 3) # 10 folds cross validation, 3 repeats"
   ]
  },
  {
   "cell_type": "code",
   "execution_count": null,
   "id": "03062736",
   "metadata": {},
   "outputs": [],
   "source": [
    "knn_fit <- train(Race_White ~pca1+pca2+pca3+pca4, data = train, method = \"knn\",\n",
    "                 trControl=trctrl,preProcess = c(\"center\", \"scale\"),tuneGrid=data.frame(k=5)) \n",
    "# standardize pca (scale = 1, mean = 0). k is the number of neighbors"
   ]
  },
  {
   "cell_type": "code",
   "execution_count": null,
   "id": "193c1e6a",
   "metadata": {},
   "outputs": [],
   "source": [
    "test_pred <- predict(knn_fit, newdata = test)\n",
    "ld.pruned.pca.race$predict_race <- test_pred "
   ]
  },
  {
   "cell_type": "code",
   "execution_count": null,
   "id": "d8b869cc",
   "metadata": {},
   "outputs": [],
   "source": [
    "ld.pruned.pca.race$compare <- ifelse(ld.pruned.pca.race$Race_White == ld.pruned.pca.race$predict_race, 'TRUE', 'FALSE')\n",
    "table(ld.pruned.pca.race$compare)"
   ]
  },
  {
   "cell_type": "code",
   "execution_count": null,
   "id": "f671cd91",
   "metadata": {},
   "outputs": [],
   "source": [
    "655/(655+19) # 97 accuracy"
   ]
  },
  {
   "cell_type": "code",
   "execution_count": null,
   "id": "99adad87",
   "metadata": {},
   "outputs": [],
   "source": [
    "ld.pruned.pca.race %>% filter(ld.pruned.pca.race$compare == 'FALSE')"
   ]
  },
  {
   "cell_type": "code",
   "execution_count": null,
   "id": "ee69ce57",
   "metadata": {
    "scrolled": true
   },
   "outputs": [],
   "source": [
    "ld.pruned.pca.race %>% filter(is.na(Race_White))"
   ]
  },
  {
   "cell_type": "code",
   "execution_count": null,
   "id": "d7801a51",
   "metadata": {},
   "outputs": [],
   "source": [
    "ld.pruned.pca.race$predict_race <- as.character(ld.pruned.pca.race$predict_race)"
   ]
  },
  {
   "cell_type": "code",
   "execution_count": null,
   "id": "8e67c01e",
   "metadata": {},
   "outputs": [],
   "source": [
    "ld.pruned.pca.race$Race_White_KNN <- ld.pruned.pca.race$Race_White\n",
    "ld.pruned.pca.race$Race_White_KNN[is.na(ld.pruned.pca.race$Race_White_KNN)] <- ld.pruned.pca.race$predict_race[is.na(ld.pruned.pca.race$Race_White_KNN)]"
   ]
  },
  {
   "cell_type": "code",
   "execution_count": null,
   "id": "e280de3a",
   "metadata": {},
   "outputs": [],
   "source": [
    "ld.pruned.pca.race %>% filter(is.na(Race_White))"
   ]
  },
  {
   "cell_type": "code",
   "execution_count": null,
   "id": "97659137",
   "metadata": {},
   "outputs": [],
   "source": [
    "sum(is.na(ld.pruned.pca.race$Race_White_KNN))"
   ]
  },
  {
   "cell_type": "code",
   "execution_count": null,
   "id": "9c096be9",
   "metadata": {},
   "outputs": [],
   "source": [
    "table(ld.pruned.pca.race$Race_White_KNN)\n",
    "table(ld.pruned.pca.race$Race_White)"
   ]
  },
  {
   "cell_type": "code",
   "execution_count": null,
   "id": "a0de13c8",
   "metadata": {},
   "outputs": [],
   "source": [
    "ggplot(ld.pruned.pca.race, aes(x=pca1, y=pca2, color = Race_White_KNN)) + geom_point() + theme_bw() + xlab('PC1') + ylab('PC2')"
   ]
  },
  {
   "cell_type": "code",
   "execution_count": null,
   "id": "8d36e3d2",
   "metadata": {},
   "outputs": [],
   "source": [
    "head(ld.pruned.pca.race)"
   ]
  },
  {
   "cell_type": "code",
   "execution_count": null,
   "id": "9be3f2eb",
   "metadata": {},
   "outputs": [],
   "source": [
    "table(ld.pruned.pca.race$Race_White == ld.pruned.pca.race$Race_White_KNN)\n",
    "dim(ld.pruned.pca.race)"
   ]
  },
  {
   "cell_type": "code",
   "execution_count": null,
   "id": "b1a46fbd",
   "metadata": {},
   "outputs": [],
   "source": [
    "race.info <- ld.pruned.pca.race %>% select(Subject_Id, Race_White_KNN)\n",
    "dim(race.info)"
   ]
  },
  {
   "cell_type": "code",
   "execution_count": null,
   "id": "6530ef7d",
   "metadata": {},
   "outputs": [],
   "source": [
    "head(race.info)"
   ]
  },
  {
   "cell_type": "code",
   "execution_count": null,
   "id": "60bd7db3",
   "metadata": {},
   "outputs": [],
   "source": [
    "# merge back to all inds\n",
    "dim(race)\n",
    "head(race)\n",
    "race.info.all <- race %>% left_join(race.info, by = 'Subject_Id')\n",
    "dim(race.info.all)\n",
    "head(race.info.all)"
   ]
  },
  {
   "cell_type": "code",
   "execution_count": null,
   "id": "fe6bd466",
   "metadata": {},
   "outputs": [],
   "source": [
    "sum(is.na(race.info.all$Race_White_KNN)) # missing because not all inds in data cohort have genotype data\n"
   ]
  },
  {
   "cell_type": "code",
   "execution_count": null,
   "id": "5478fc4a",
   "metadata": {},
   "outputs": [],
   "source": [
    "table(race.info.all$Race_White)"
   ]
  },
  {
   "cell_type": "code",
   "execution_count": null,
   "id": "27953e65",
   "metadata": {},
   "outputs": [],
   "source": [
    "race.info.all %>% filter(Race_White == 'Unknown')"
   ]
  },
  {
   "cell_type": "code",
   "execution_count": null,
   "id": "da14ee4d",
   "metadata": {},
   "outputs": [],
   "source": [
    "race.info.all$Race_White_KNN_impute_missing <- race.info.all$Race_White\n",
    "race.info.all$Race_White_KNN_impute_missing[race.info.all$Race_White == 'Unknown'] <- race.info.all$Race_White_KNN[race.info.all$Race_White == 'Unknown']\n",
    "table(race.info.all$Race_White_KNN_impute_missing)"
   ]
  },
  {
   "cell_type": "code",
   "execution_count": null,
   "id": "85aa9248",
   "metadata": {},
   "outputs": [],
   "source": [
    "sum(is.na(race.info.all$Race_White_KNN_impute_missing)) # remove"
   ]
  },
  {
   "cell_type": "code",
   "execution_count": null,
   "id": "5b4cb84b",
   "metadata": {},
   "outputs": [],
   "source": [
    "race.info.all <- race.info.all %>% select(Subject_Id, Race1, Race2, Race_Group, Race_White, Race_White_KNN_impute_missing)\n",
    "dim(race.info.all)\n",
    "head(race.info.all)"
   ]
  },
  {
   "cell_type": "code",
   "execution_count": null,
   "id": "e98c5bf2",
   "metadata": {},
   "outputs": [],
   "source": []
  }
 ],
 "metadata": {
  "kernelspec": {
   "display_name": "R",
   "language": "R",
   "name": "ir"
  },
  "language_info": {
   "codemirror_mode": "r",
   "file_extension": ".r",
   "mimetype": "text/x-r-source",
   "name": "R",
   "pygments_lexer": "r",
   "version": "4.1.0"
  }
 },
 "nbformat": 4,
 "nbformat_minor": 5
}
