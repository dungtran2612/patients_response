{
 "cells": [
  {
   "cell_type": "code",
   "execution_count": null,
   "id": "39e54f3e",
   "metadata": {},
   "outputs": [],
   "source": [
    "# load library\n",
    "library(data.table)\n",
    "packageVersion('data.table')\n",
    "library(readr)\n",
    "packageVersion('readr')\n",
    "library(dplyr)\n",
    "packageVersion('dplyr')\n",
    "library(stringr)\n",
    "packageVersion('stringr')\n",
    "library(ggplot2)\n",
    "packageVersion('ggplot2')\n",
    "library(tidyr)\n",
    "packageVersion('tidyr')"
   ]
  },
  {
   "cell_type": "code",
   "execution_count": null,
   "id": "f667a4ce",
   "metadata": {},
   "outputs": [],
   "source": [
    "# set directory\n",
    "data.dir = '...'\n",
    "rpdr.dir = file.path('...')\n",
    "plink1.dir = '...'"
   ]
  },
  {
   "cell_type": "code",
   "execution_count": null,
   "id": "a6e9bdad",
   "metadata": {},
   "outputs": [],
   "source": [
    "# load gender file from RPDR\n",
    "dem <- read.csv(file.path(rpdr.dir, 'Demographic_data.csv'))\n",
    "gender <- dem %>% select(Subject_Id, Sex_At_Birth)\n",
    "head(gender)"
   ]
  },
  {
   "cell_type": "code",
   "execution_count": null,
   "id": "c4930aad",
   "metadata": {},
   "outputs": [],
   "source": [
    "table(gender$Sex_At_Birth)"
   ]
  },
  {
   "cell_type": "code",
   "execution_count": null,
   "id": "b037bb51",
   "metadata": {},
   "outputs": [],
   "source": [
    "# load id file\n",
    "id <- read.csv(file.path(data.dir, 'genotype_ID.csv'))\n",
    "id <- distinct(id)\n",
    "colnames(id) <- c('Subject_Id', 'sample_info', 'batch')\n",
    "dim(id)"
   ]
  },
  {
   "cell_type": "code",
   "execution_count": null,
   "id": "473ca6af",
   "metadata": {},
   "outputs": [],
   "source": [
    "# merge\n",
    "gender.698 <- id %>% left_join(gender, by = 'Subject_Id')\n",
    "head(gender.698)"
   ]
  },
  {
   "cell_type": "code",
   "execution_count": null,
   "id": "2b294dc5",
   "metadata": {},
   "outputs": [],
   "source": [
    "table(gender.698$Sex_At_Birth) # check gender"
   ]
  },
  {
   "cell_type": "code",
   "execution_count": null,
   "id": "011797a4",
   "metadata": {},
   "outputs": [],
   "source": [
    "# code Sex (1=male; 2=female; other=unknown based on plink)\n",
    "gender.698$Sex_at_birth_code <- ifelse(gender.698$Sex_At_Birth == 'Male', 1,\n",
    "                      ifelse(gender.698$Sex_At_Birth == 'Female', 2, 0))\n",
    "table(gender.698$Sex_at_birth_code)\n",
    "head(gender.698)"
   ]
  },
  {
   "cell_type": "code",
   "execution_count": null,
   "id": "e6ed131b",
   "metadata": {},
   "outputs": [],
   "source": [
    "gender.698.1 <- separate(gender.698, sample_info, into = c('FID', 'IID'), sep = \"_\")\n",
    "head(gender.698.1)"
   ]
  },
  {
   "cell_type": "code",
   "execution_count": null,
   "id": "309a1053",
   "metadata": {},
   "outputs": [],
   "source": [
    "# make new fam file including gender\n",
    "# Read the FAM file: change the fam file to chrs_X_poly_SNPs_maf_005_hwe_1e-05_org.fam\n",
    "fam.698 <- read.table(file.path(plink1.dir, 'chrs_X_poly_SNPs_maf_005_hwe_1e-05_org.fam'), \n",
    "                                header = FALSE, stringsAsFactors = FALSE)\n",
    "colnames(fam.698) <- c(\"FID\", \"IID\", \"Paternal_ID\", \"Maternal_ID\", \"Sex\", \"Phenotype\")\n",
    "head(fam.698)"
   ]
  },
  {
   "cell_type": "code",
   "execution_count": null,
   "id": "abb40993",
   "metadata": {},
   "outputs": [],
   "source": [
    "fam.698$FID <- as.character(fam.698$FID)\n",
    "fam.698.new <- fam.698 %>% left_join(gender.698.1, by = c('FID', 'IID'))\n",
    "dim(fam.698.new)\n",
    "head(fam.698.new)"
   ]
  },
  {
   "cell_type": "code",
   "execution_count": null,
   "id": "dba355f1",
   "metadata": {},
   "outputs": [],
   "source": [
    "fam.698.new.1 <- fam.698.new %>% select(FID, IID, Paternal_ID, Maternal_ID, Sex_at_birth_code, Phenotype)\n",
    "names(fam.698.new.1)[names(fam.698.new.1) == \"Sex_at_birth_code\"] <- \"Sex\"\n",
    "head(fam.698.new.1)"
   ]
  },
  {
   "cell_type": "code",
   "execution_count": null,
   "id": "c4f57e5c",
   "metadata": {},
   "outputs": [],
   "source": [
    "write.table(fam.698.new.1, file.path(plink1.dir, 'chrs_X_poly_SNPs_maf_005_hwe_1e-05.fam'), \n",
    "            sep = \"\\t\", col.names = FALSE, row.names = FALSE, quote = FALSE) "
   ]
  },
  {
   "cell_type": "code",
   "execution_count": null,
   "id": "d309533d",
   "metadata": {},
   "outputs": [],
   "source": [
    "# open output from checksex: chrs_X_SNP_cleaned_checksex.sexcheck\n",
    "sex.check <- read.table(file.path(plink1.dir,'chrs_X_SNP_cleaned_checksex.sexcheck'), header = TRUE)\n",
    "dim(sex.check)\n",
    "head(sex.check)"
   ]
  },
  {
   "cell_type": "code",
   "execution_count": null,
   "id": "560c469b",
   "metadata": {},
   "outputs": [],
   "source": [
    "sex.check$FID <- as.character(sex.check$FID)\n",
    "sex.check.new <- sex.check %>% left_join(gender.698.1, by = c('FID', 'IID'))\n",
    "dim(sex.check.new)\n",
    "head(sex.check.new)"
   ]
  },
  {
   "cell_type": "code",
   "execution_count": null,
   "id": "de4f1a67",
   "metadata": {},
   "outputs": [],
   "source": [
    "sex.check.new.1 <- sex.check.new %>% left_join(dem[,c('Subject_Id', 'Gender_Legal_Sex', 'Gender_Identity')], by = 'Subject_Id')\n",
    "head(sex.check.new.1)"
   ]
  },
  {
   "cell_type": "code",
   "execution_count": null,
   "id": "559f31c8",
   "metadata": {},
   "outputs": [],
   "source": [
    "# code Gender_Legal_Sex (1=male; 2=female; other=unknown based on plink)\n",
    "sex.check.new.1$Gender_Legal_Sex_code <- ifelse(sex.check.new.1$Gender_Legal_Sex == 'Male', 1,\n",
    "                      ifelse(sex.check.new.1$Gender_Legal_Sex == 'Female', 2, 0))\n",
    "table(sex.check.new.1$Gender_Legal_Sex_code)\n",
    "head(sex.check.new.1)"
   ]
  },
  {
   "cell_type": "code",
   "execution_count": null,
   "id": "43973246",
   "metadata": {},
   "outputs": [],
   "source": [
    "# code Gender_Identity (1=male; 2=female; other=unknown based on plink)\n",
    "sex.check.new.1$Gender_Identity_code <- ifelse(sex.check.new.1$Gender_Identity == 'Male', 1,\n",
    "                      ifelse(sex.check.new.1$Gender_Identity == 'Female', 2, 0))\n",
    "table(sex.check.new.1$Gender_Identity_code)\n",
    "head(sex.check.new.1)"
   ]
  },
  {
   "cell_type": "code",
   "execution_count": null,
   "id": "adab61c1",
   "metadata": {},
   "outputs": [],
   "source": [
    "sex.check.new.2 <- sex.check.new.1 %>% select(Subject_Id, PEDSEX, SNPSEX, STATUS, Gender_Legal_Sex_code, Gender_Identity_code)\n",
    "head(sex.check.new.2)"
   ]
  },
  {
   "cell_type": "code",
   "execution_count": null,
   "id": "98ea45b7",
   "metadata": {},
   "outputs": [],
   "source": [
    "# compare SNPSEX vs Gender_Legal_Sex\n",
    "sex.check.new.2$SNPSEX_LegalSex <- ifelse(sex.check.new.2$SNPSEX == sex.check.new.2$Gender_Legal_Sex_code, 'TRUE', 'FALSE')\n",
    "table(sex.check.new.2$SNPSEX_LegalSex)"
   ]
  },
  {
   "cell_type": "code",
   "execution_count": null,
   "id": "bfdf5695",
   "metadata": {},
   "outputs": [],
   "source": [
    "sex.check.new.2 %>% filter(SNPSEX_LegalSex == 'FALSE' & SNPSEX != 0) # 7 problem"
   ]
  },
  {
   "cell_type": "code",
   "execution_count": null,
   "id": "fd8804f4",
   "metadata": {},
   "outputs": [],
   "source": [
    "id.problem <- sex.check.new.2 %>% filter(STATUS == 'PROBLEM' & SNPSEX != 0 & PEDSEX != 0) # 4 problem --> remove\n",
    "id.problem"
   ]
  },
  {
   "cell_type": "code",
   "execution_count": null,
   "id": "ddd5b384",
   "metadata": {},
   "outputs": [],
   "source": [
    "dim(sex.check.new.2)\n",
    "sex.check.remove.problem <- sex.check.new.2 %>% filter(!Subject_Id %in% id.problem$Subject_Id)\n",
    "dim(sex.check.remove.problem)"
   ]
  },
  {
   "cell_type": "code",
   "execution_count": null,
   "id": "5a0b9f28",
   "metadata": {},
   "outputs": [],
   "source": [
    "sex.check.remove.problem %>% filter(Subject_Id %in% id.problem$Subject_Id)"
   ]
  },
  {
   "cell_type": "code",
   "execution_count": null,
   "id": "8332d4b6",
   "metadata": {},
   "outputs": [],
   "source": [
    "# if ped sex missing --> use snp sex info\n",
    "sex.check.remove.problem$Gender_impute <- sex.check.remove.problem$PEDSEX\n",
    "table(sex.check.remove.problem$Gender_impute)\n",
    "sex.check.remove.problem$Gender_impute[sex.check.remove.problem$Gender_impute == 0] <- sex.check.remove.problem$SNPSEX[sex.check.remove.problem$Gender_impute == 0]\n",
    "table(sex.check.remove.problem$Gender_impute)"
   ]
  },
  {
   "cell_type": "code",
   "execution_count": null,
   "id": "26567cdd",
   "metadata": {},
   "outputs": [],
   "source": [
    "sex.check.remove.problem %>% filter(Gender_impute == 0)"
   ]
  },
  {
   "cell_type": "code",
   "execution_count": null,
   "id": "c4bafdc3",
   "metadata": {},
   "outputs": [],
   "source": [
    "# 83 snp sex info missing --> use legal gender\n",
    "sex.check.remove.problem$Gender_impute[sex.check.remove.problem$Gender_impute == 0] <- sex.check.remove.problem$Gender_Legal_Sex_code[sex.check.remove.problem$Gender_impute == 0]\n",
    "table(sex.check.remove.problem$Gender_impute)"
   ]
  },
  {
   "cell_type": "code",
   "execution_count": null,
   "id": "fb242b35",
   "metadata": {},
   "outputs": [],
   "source": [
    "# code Sex (1=male; 2=female; other=unknown based on plink)\n",
    "sex.check.remove.problem$Gender_impute_info <- ifelse(sex.check.remove.problem$Gender_impute == 1, 'Male',\n",
    "                      ifelse(sex.check.remove.problem$Gender_impute == 2, 'Female', 0))\n",
    "table(sex.check.remove.problem$Gender_impute_info)\n",
    "head(sex.check.remove.problem)"
   ]
  },
  {
   "cell_type": "code",
   "execution_count": null,
   "id": "3e848a5c",
   "metadata": {},
   "outputs": [],
   "source": [
    "# because genotype data has only 698 ind, merge to have full data\n",
    "gender.all <- dem %>% select(Subject_Id, Sex_At_Birth, Gender_Legal_Sex, Gender_Identity)\n",
    "gender.all.1 <- gender.all %>% left_join(sex.check.remove.problem, by = 'Subject_Id')\n",
    "dim(gender.all.1)\n",
    "head(gender.all.1)"
   ]
  },
  {
   "cell_type": "code",
   "execution_count": null,
   "id": "8cdc16c1",
   "metadata": {},
   "outputs": [],
   "source": [
    "# show missing\n",
    "gender.all.1 %>% filter(is.na(Gender_impute_info)) # use Sex at birth for missing"
   ]
  },
  {
   "cell_type": "code",
   "execution_count": null,
   "id": "c89fc83f",
   "metadata": {},
   "outputs": [],
   "source": [
    "gender.all.1$Gender_impute_all <- gender.all.1$Gender_impute_info\n",
    "table(gender.all.1$Gender_impute_all)\n",
    "gender.all.1$Gender_impute_all[is.na(gender.all.1$Gender_impute_info)] <- gender.all.1$Sex_At_Birth[is.na(gender.all.1$Gender_impute_info)]\n",
    "table(gender.all.1$Gender_impute_all)"
   ]
  },
  {
   "cell_type": "code",
   "execution_count": null,
   "id": "75b88c55",
   "metadata": {},
   "outputs": [],
   "source": [
    "# 84 unknow, using gender legal sex\n",
    "gender.all.1$Gender_impute_all[gender.all.1$Gender_impute_all == 'Unknown'] <- gender.all.1$Gender_Legal_Sex[gender.all.1$Gender_impute_all == 'Unknown']\n",
    "table(gender.all.1$Gender_impute_all)"
   ]
  },
  {
   "cell_type": "code",
   "execution_count": null,
   "id": "4c8dfc32",
   "metadata": {},
   "outputs": [],
   "source": [
    "dim(gender.all.1)\n",
    "head(gender.all.1)"
   ]
  },
  {
   "cell_type": "code",
   "execution_count": null,
   "id": "9fc8c1bf",
   "metadata": {},
   "outputs": [],
   "source": []
  }
 ],
 "metadata": {
  "kernelspec": {
   "display_name": "R",
   "language": "R",
   "name": "ir"
  },
  "language_info": {
   "codemirror_mode": "r",
   "file_extension": ".r",
   "mimetype": "text/x-r-source",
   "name": "R",
   "pygments_lexer": "r",
   "version": "4.1.0"
  }
 },
 "nbformat": 4,
 "nbformat_minor": 5
}
