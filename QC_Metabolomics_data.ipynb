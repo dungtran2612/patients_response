{
 "cells": [
  {
   "cell_type": "code",
   "execution_count": null,
   "id": "be6ef26b",
   "metadata": {},
   "outputs": [],
   "source": [
    "# load R packages\n",
    "library(readxl)\n",
    "packageVersion('readxl')\n",
    "library(dplyr)\n",
    "packageVersion('dplyr')\n",
    "library(stringr)\n",
    "packageVersion('stringr')\n",
    "library(fastDummies)\n",
    "packageVersion('fastDummies')\n",
    "library(tidyr)\n",
    "packageVersion('tidyr')\n",
    "library(lubridate)\n",
    "packageVersion('lubridate')\n",
    "library(ggplot2)\n",
    "packageVersion('ggplot2')"
   ]
  },
  {
   "cell_type": "code",
   "execution_count": null,
   "id": "fa04e931",
   "metadata": {},
   "outputs": [],
   "source": [
    "# set directory\n",
    "project.dir = '...'\n",
    "data.dir = '...'\n",
    "regeps.dir = '...'\n",
    "raw.rpdr.dir = file.path(regeps.dir, '...')\n",
    "cleaned.rpdr.dir = file.path(regeps.dir, '...')\n",
    "Qingwen.data.dir = file.path(regeps.dir, '...')\n",
    "mets.dir = file.path(regeps.dir, '...')"
   ]
  },
  {
   "cell_type": "markdown",
   "id": "977cf8f6",
   "metadata": {},
   "source": [
    "# Prepare files\n",
    "- General workflow: Keep only metabolites having missing values less than 30%, then impute remaining missing values with half min (Metabolon claims missing values because of low concentration)\n",
    "    - Check IQR after imputation, select IQR > 0\n",
    "    - After imputation, log 10 transformation\n",
    "    - After transformation, normalizing data with pareto scaling to keep variation"
   ]
  },
  {
   "cell_type": "code",
   "execution_count": null,
   "id": "aab81e94",
   "metadata": {},
   "outputs": [],
   "source": [
    "# load mets data from Metabolon\n",
    "mets.data <- read_excel(file.path(mets.dir,\"DATA TABLES.XLSX\"), sheet = \"Batch-normalized Data\")\n",
    "dim(mets.data)\n",
    "head(mets.data)"
   ]
  },
  {
   "cell_type": "code",
   "execution_count": null,
   "id": "7e28f7a3",
   "metadata": {},
   "outputs": [],
   "source": [
    "# Load ID data\n",
    "mets.patient.ID <- read_excel(file.path(mets.dir,\"DATA TABLES.XLSX\"), sheet = \"Sample Meta Data\")\n",
    "dim(mets.patient.ID)\n",
    "head(mets.patient.ID)"
   ]
  },
  {
   "cell_type": "code",
   "execution_count": null,
   "id": "c06c93a8",
   "metadata": {},
   "outputs": [],
   "source": [
    "# combine mets and ID into one file\n",
    "# select variables in mets.patient.ID\n",
    "mets.patient.ID.1 <- mets.patient.ID %>% select(PARENT_SAMPLE_NAME,\n",
    "                                                            CLIENT_IDENTIFIER,\n",
    "                                                            CLIENT_SAMPLE_ID,\n",
    "                                                            SAMPLE_SHIPMENT)\n",
    "# merge with mets.data\n",
    "mets <- merge(mets.data, mets.patient.ID.1, by = \"PARENT_SAMPLE_NAME\")\n",
    "dim(mets)\n",
    "head(mets)"
   ]
  },
  {
   "cell_type": "markdown",
   "id": "e8c74e1a",
   "metadata": {},
   "source": [
    "## Filter only discovery"
   ]
  },
  {
   "cell_type": "code",
   "execution_count": null,
   "id": "1ea2eb23",
   "metadata": {},
   "outputs": [],
   "source": [
    "# check how many samples in each sample shipment\n",
    "length(which(mets$SAMPLE_SHIPMENT == '1')) # 935 1 means 1st shipment => discovery cohort <935>\n",
    "length(which(mets$SAMPLE_SHIPMENT == '2')) # 1051 2 means 2nd shipment => valdiation Cohort\n",
    "\n",
    "# change sample shipment to cohort\n",
    "mets['Cohort'] <- mets$SAMPLE_SHIPMENT\n",
    "\n",
    "mets$Cohort[mets$Cohort == '1'] <- 'discovery'\n",
    "mets$Cohort[mets$Cohort == '2'] <- 'valdiation'\n",
    "\n",
    "head(mets$Cohort)\n",
    "head(mets$SAMPLE_SHIPMENT)"
   ]
  },
  {
   "cell_type": "code",
   "execution_count": null,
   "id": "353a388b",
   "metadata": {},
   "outputs": [],
   "source": [
    "# select discovery project\n",
    "discovery.mets <- mets %>% filter(Cohort == 'discovery')\n",
    "dim(discovery.mets)\n",
    "table(discovery.mets$Cohort)"
   ]
  },
  {
   "cell_type": "markdown",
   "id": "ea3b17e9",
   "metadata": {},
   "source": [
    "# Check missing value for each patient and each metabolite"
   ]
  },
  {
   "cell_type": "code",
   "execution_count": null,
   "id": "a76e3c41",
   "metadata": {
    "scrolled": true
   },
   "outputs": [],
   "source": [
    "# relocate columns to front, after PARENT_SAMPLE_NAME\n",
    "discovery.mets <- discovery.mets %>% relocate(CLIENT_IDENTIFIER, CLIENT_SAMPLE_ID, SAMPLE_SHIPMENT, Cohort,\n",
    "                                        .after = PARENT_SAMPLE_NAME)\n",
    "dim(discovery.mets)\n",
    "head(discovery.mets)"
   ]
  },
  {
   "cell_type": "code",
   "execution_count": null,
   "id": "f94ed83a",
   "metadata": {},
   "outputs": [],
   "source": [
    "# add missing value count for each patient\n",
    "discovery.mets$missing.value <- rowSums(is.na(discovery.mets))\n",
    "which(colnames(discovery.mets) == '35')\n",
    "discovery.mets$missing.value.percent <- (discovery.mets$missing.value/ncol(discovery.mets[,-c(1:5)]))*100\n",
    "summary(discovery.mets$missing.value.percent)"
   ]
  },
  {
   "cell_type": "code",
   "execution_count": null,
   "id": "e205627a",
   "metadata": {},
   "outputs": [],
   "source": [
    "# relocate columns to front, after PARENT_SAMPLE_NAME\n",
    "discovery.mets <- discovery.mets %>% relocate(missing.value, missing.value.percent,\n",
    "                                        .after = Cohort)\n",
    "dim(discovery.mets)\n",
    "head(discovery.mets)"
   ]
  },
  {
   "cell_type": "markdown",
   "id": "26724e19",
   "metadata": {},
   "source": [
    "### Check missing value of each metabolite"
   ]
  },
  {
   "cell_type": "code",
   "execution_count": null,
   "id": "9fc7c6fb",
   "metadata": {},
   "outputs": [],
   "source": [
    "# check missing values of metabolites\n",
    "discovery.mets.t <- data.frame(t(discovery.mets)) # transpose data\n",
    "colnames(discovery.mets.t) <- discovery.mets.t[1,]\n",
    "discovery.mets.t$CHEM_ID <- row.names(discovery.mets.t)\n",
    "discovery.mets.t <- discovery.mets.t %>% relocate(CHEM_ID, .before = 'BRIG-00516')\n",
    "\n",
    "# remove uncessary rows\n",
    "discovery.mets.t <- discovery.mets.t[-c(1:7),]\n",
    "head(discovery.mets.t,10)"
   ]
  },
  {
   "cell_type": "code",
   "execution_count": null,
   "id": "c4cf0739",
   "metadata": {},
   "outputs": [],
   "source": [
    "# add missing value count for each metabolite\n",
    "discovery.mets.t$missing.value <- rowSums(is.na(discovery.mets.t))\n",
    "discovery.mets.t$missing.value.percent <- (discovery.mets.t$missing.value/ncol(discovery.mets.t))*100\n",
    "summary(discovery.mets.t$missing.value.percent)"
   ]
  },
  {
   "cell_type": "code",
   "execution_count": null,
   "id": "da6c0769",
   "metadata": {},
   "outputs": [],
   "source": [
    "# relocate columns\n",
    "discovery.mets.t <- discovery.mets.t %>% relocate(missing.value, missing.value.percent, .before = 'BRIG-00516') %>% \n",
    "                        arrange(desc(missing.value.percent))\n",
    "head(discovery.mets.t)"
   ]
  },
  {
   "cell_type": "code",
   "execution_count": null,
   "id": "cd935adc",
   "metadata": {},
   "outputs": [],
   "source": [
    "# count how many metabolite missing more than different cut off\n",
    "dim(discovery.mets.t %>% filter(missing.value.percent < 10))\n",
    "dim(discovery.mets.t %>% filter(missing.value.percent < 20))\n",
    "dim(discovery.mets.t %>% filter(missing.value.percent < 30))\n",
    "dim(discovery.mets.t %>% filter(missing.value.percent < 40))\n",
    "dim(discovery.mets.t %>% filter(missing.value.percent < 50))"
   ]
  },
  {
   "cell_type": "code",
   "execution_count": null,
   "id": "b753f3ec",
   "metadata": {},
   "outputs": [],
   "source": [
    "# match with metabolie name info\n",
    "# load metabolite info from Qingwen's QC\n",
    "discovery.mets.info <- read_excel(file.path(mets.dir,\"DATA TABLES.XLSX\"), sheet = \"Chemical Annotation\")\n",
    "discovery.mets.info$CHEM_ID <- as.character(discovery.mets.info$CHEM_ID)\n",
    "table(discovery.mets.info$SUPER_PATHWAY)\n",
    "table(discovery.mets.info$TYPE)"
   ]
  },
  {
   "cell_type": "code",
   "execution_count": null,
   "id": "c54124ed",
   "metadata": {},
   "outputs": [],
   "source": [
    "# merge to have metabolie info\n",
    "discovery.mets.t.info <- discovery.mets.t %>% left_join(discovery.mets.info, by = 'CHEM_ID')\n",
    "dim(discovery.mets.t.info)\n",
    "head(discovery.mets.t.info)"
   ]
  },
  {
   "cell_type": "code",
   "execution_count": null,
   "id": "69fe04b8",
   "metadata": {},
   "outputs": [],
   "source": [
    "table(discovery.mets.t.info$SUPER_PATHWAY)"
   ]
  },
  {
   "cell_type": "code",
   "execution_count": null,
   "id": "4a95b4ce",
   "metadata": {},
   "outputs": [],
   "source": [
    "# filter out unnamed, Xenobiotics, partially characterized molecules\n",
    "discovery.mets.t.info.filtered <- discovery.mets.t.info[! (discovery.mets.t.info$SUPER_PATHWAY %in% c(\"\", \"Partially Characterized Molecules\", \"Xenobiotics\")), ]\n",
    "discovery.mets.t.info.filtered <- discovery.mets.t.info.filtered[! (discovery.mets.t.info.filtered$TYPE %in% c('UNNAMED')), ]\n",
    "head(discovery.mets.t.info.filtered)\n",
    "dim(discovery.mets.t.info.filtered)"
   ]
  },
  {
   "cell_type": "code",
   "execution_count": null,
   "id": "a7f6b1ea",
   "metadata": {},
   "outputs": [],
   "source": [
    "# count how many filtered metabolite missing more than different cut off\n",
    "dim(discovery.mets.t.info.filtered %>% filter(missing.value.percent < 10))\n",
    "dim(discovery.mets.t.info.filtered %>% filter(missing.value.percent < 20)) \n",
    "dim(discovery.mets.t.info.filtered %>% filter(missing.value.percent < 30))\n",
    "dim(discovery.mets.t.info.filtered %>% filter(missing.value.percent < 40))\n",
    "dim(discovery.mets.t.info.filtered %>% filter(missing.value.percent < 50))"
   ]
  },
  {
   "cell_type": "code",
   "execution_count": null,
   "id": "85e7841c",
   "metadata": {},
   "outputs": [],
   "source": [
    "# check sub pathway\n",
    "table((discovery.mets.t.info.filtered %>% filter(missing.value.percent < 10))$SUPER_PATHWAY)\n",
    "table((discovery.mets.t.info.filtered %>% filter(missing.value.percent < 20))$SUPER_PATHWAY) \n",
    "table((discovery.mets.t.info.filtered %>% filter(missing.value.percent < 30))$SUPER_PATHWAY) \n",
    "table((discovery.mets.t.info.filtered %>% filter(missing.value.percent < 40))$SUPER_PATHWAY)\n",
    "table((discovery.mets.t.info.filtered %>% filter(missing.value.percent < 50))$SUPER_PATHWAY)"
   ]
  },
  {
   "cell_type": "markdown",
   "id": "45e4a736",
   "metadata": {},
   "source": [
    "## Remove missing values"
   ]
  },
  {
   "cell_type": "markdown",
   "id": "38088591",
   "metadata": {},
   "source": [
    "- remove metabolites with missing values higher than 30%\n",
    "- imputate remaining missing values with half min value"
   ]
  },
  {
   "cell_type": "code",
   "execution_count": null,
   "id": "21011268",
   "metadata": {},
   "outputs": [],
   "source": [
    "dim(discovery.mets)"
   ]
  },
  {
   "cell_type": "code",
   "execution_count": null,
   "id": "604b313f",
   "metadata": {},
   "outputs": [],
   "source": [
    "# remove columns with more than 30% NA, available in 70%\n",
    "discovery.mets <- discovery.mets[, which(colMeans(!is.na(discovery.mets)) > 0.7)]\n",
    "ncol(discovery.mets) # 1186\n",
    "n_col <- ncol(discovery.mets) # no of columns\n",
    "head(discovery.mets)"
   ]
  },
  {
   "cell_type": "markdown",
   "id": "59152e6b",
   "metadata": {},
   "source": [
    "# Imputation"
   ]
  },
  {
   "cell_type": "code",
   "execution_count": null,
   "id": "05a17f93",
   "metadata": {},
   "outputs": [],
   "source": [
    "# impute remaining missing values with half minimum\n",
    "# load impute function\n",
    "impute <- function(x){\n",
    "  x[is.na(x)] <- min(x, na.rm=TRUE)/2 #convert the item with NA to 1/2 min value from the column\n",
    "  x\n",
    "}"
   ]
  },
  {
   "cell_type": "code",
   "execution_count": null,
   "id": "e50cd152",
   "metadata": {},
   "outputs": [],
   "source": [
    "head(discovery.mets)"
   ]
  },
  {
   "cell_type": "code",
   "execution_count": null,
   "id": "4efcb96d",
   "metadata": {},
   "outputs": [],
   "source": [
    "which(colnames(discovery.mets) == '35')"
   ]
  },
  {
   "cell_type": "code",
   "execution_count": null,
   "id": "86908106",
   "metadata": {},
   "outputs": [],
   "source": [
    "# impute remaining missing values with half minimum\n",
    "imputed.data <- discovery.mets\n",
    "imputed.data[,-c(1:7)] <- apply(discovery.mets[,-c(1:7)],2,impute) # 2 is column, -c(1:7) means removing unnecessary cols\n",
    "imputed.data <- as.data.frame(imputed.data) # convert back to data frame\n",
    "head(imputed.data)\n",
    "\n",
    "ncol(imputed.data) # 1186\n",
    "sum(is.na(imputed.data[,-c(1:7)]))\n",
    "\n",
    "names(which(colSums(is.na(imputed.data))>0)) # all were imputed"
   ]
  },
  {
   "cell_type": "code",
   "execution_count": null,
   "id": "0c96e629",
   "metadata": {},
   "outputs": [],
   "source": [
    "# interquartile range\n",
    "# load function\n",
    "iqr <- function(x){\n",
    "  if(class(x) != \"numeric\") 1\n",
    "  else IQR(x)\n",
    "}"
   ]
  },
  {
   "cell_type": "code",
   "execution_count": null,
   "id": "e2890c20",
   "metadata": {},
   "outputs": [],
   "source": [
    "# interquartile range\n",
    "imputed.data.iqr.raw <- sapply(imputed.data , iqr) # sapply in column\n",
    "\n",
    "imputed.data.iqr <- imputed.data[which(sapply(imputed.data , iqr) > 0)] # remove only 1 col (sample shipment)\n",
    "imputed.data.iqr <- as.data.frame(imputed.data.iqr)\n",
    "dim(imputed.data.iqr)"
   ]
  },
  {
   "cell_type": "markdown",
   "id": "98e8a669",
   "metadata": {},
   "source": [
    "### Check IQR"
   ]
  },
  {
   "cell_type": "code",
   "execution_count": null,
   "id": "a55f055e",
   "metadata": {},
   "outputs": [],
   "source": [
    "# check iqr\n",
    "imputed.data.iqr.t <- data.frame(t(imputed.data.iqr))\n",
    "colnames(imputed.data.iqr.t) <- imputed.data.iqr.t[1,]\n",
    "imputed.data.iqr.t$CHEM_ID <- row.names(imputed.data.iqr.t)\n",
    "imputed.data.iqr.t <- imputed.data.iqr.t %>% relocate(CHEM_ID, .before = 'BRIG-00516')\n",
    "\n",
    "# remove uncessary rows\n",
    "imputed.data.iqr.t <- imputed.data.iqr.t[-c(1:6),]\n",
    "head(imputed.data.iqr.t)"
   ]
  },
  {
   "cell_type": "code",
   "execution_count": null,
   "id": "0b1fa1ff",
   "metadata": {},
   "outputs": [],
   "source": [
    "imputed.data.iqr.t$IQR <- apply(imputed.data.iqr.t,1,IQR)\n",
    "summary(imputed.data.iqr.t$IQR)\n",
    "head(imputed.data.iqr.t)"
   ]
  },
  {
   "cell_type": "markdown",
   "id": "f0013a0f",
   "metadata": {},
   "source": [
    "**all IQR is greater than 0**"
   ]
  },
  {
   "cell_type": "markdown",
   "id": "cae678ac",
   "metadata": {},
   "source": [
    "# Exclude xenobiotics and partial characterized metabolites"
   ]
  },
  {
   "cell_type": "code",
   "execution_count": null,
   "id": "becf9ca2",
   "metadata": {},
   "outputs": [],
   "source": [
    "head(discovery.mets.info)\n",
    "dim(discovery.mets.info)"
   ]
  },
  {
   "cell_type": "code",
   "execution_count": null,
   "id": "85fb9ceb",
   "metadata": {},
   "outputs": [],
   "source": [
    "# filter out unnamed, Xenobiotics, partially characterized molecules\n",
    "discovery.mets.info.filtered <- discovery.mets.info[! (discovery.mets.info$SUPER_PATHWAY %in% c(\"\", \n",
    "                                                                            \"Partially Characterized Molecules\", \n",
    "                                                                            \"Xenobiotics\")), ]\n",
    "discovery.mets.info.filtered <- discovery.mets.info.filtered[! (discovery.mets.info.filtered$TYPE %in% c('UNNAMED')), ]\n",
    "head(discovery.mets.info.filtered)\n",
    "dim(discovery.mets.info.filtered)"
   ]
  },
  {
   "cell_type": "code",
   "execution_count": null,
   "id": "b7433512",
   "metadata": {
    "scrolled": true
   },
   "outputs": [],
   "source": [
    "table(discovery.mets.info.filtered$TYPE) # no unnamed\n",
    "table(discovery.mets.info.filtered$SUPER_PATHWAY) # no xenobiotic and unpartial characterized"
   ]
  },
  {
   "cell_type": "code",
   "execution_count": null,
   "id": "8bd8e476",
   "metadata": {},
   "outputs": [],
   "source": [
    "which(colnames(imputed.data.iqr) == '35')"
   ]
  },
  {
   "cell_type": "code",
   "execution_count": null,
   "id": "7177b2b6",
   "metadata": {},
   "outputs": [],
   "source": [
    "colnames(imputed.data.iqr[,c(1:6)])"
   ]
  },
  {
   "cell_type": "code",
   "execution_count": null,
   "id": "ce3ef3ea",
   "metadata": {},
   "outputs": [],
   "source": [
    "# select mets cols in mets file\n",
    "selected.cols <- discovery.mets.info.filtered$CHEM_ID\n",
    "selected.cols <- c(selected.cols, c('PARENT_SAMPLE_NAME','CLIENT_IDENTIFIER', 'CLIENT_SAMPLE_ID',\n",
    "                                   'Cohort', 'missing.value', 'missing.value.percent'))\n",
    "\n",
    "imputed.data.iqr.filtered <- imputed.data.iqr[,which(colnames(imputed.data.iqr) %in% selected.cols)]\n",
    "head(imputed.data.iqr.filtered)\n",
    "ncol(imputed.data.iqr.filtered) # 768"
   ]
  },
  {
   "cell_type": "code",
   "execution_count": null,
   "id": "05961694",
   "metadata": {},
   "outputs": [],
   "source": [
    "# log transformation\n",
    "log.data <- imputed.data.iqr.filtered\n",
    "log.data[, -c(1:6)] <- log(imputed.data.iqr.filtered[, -c(1:6)])\n",
    "head(log.data)"
   ]
  },
  {
   "cell_type": "code",
   "execution_count": null,
   "id": "790b56ab",
   "metadata": {},
   "outputs": [],
   "source": [
    "# normalizing data with pareto scaling\n",
    "pareto <- function(x) {(x-mean(x, na.rm = T))/sqrt(sd(x, na.rm = T))}\n",
    "log.data.pareto <- log.data\n",
    "log.data.pareto[,-c(1:6)] <- apply(log.data.pareto[,-c(1:6)],2,pareto)\n",
    "log.data.pareto<- as.data.frame(log.data.pareto)\n",
    "head(log.data.pareto)"
   ]
  },
  {
   "cell_type": "code",
   "execution_count": null,
   "id": "cef40bdd",
   "metadata": {},
   "outputs": [],
   "source": [
    "# add M in metabolite cols                                         \n",
    "colnames(log.data.pareto)[-c(1:6)] <- paste('M', colnames(log.data.pareto)[-c(1:6)], sep = '')\n",
    "head(log.data.pareto)"
   ]
  },
  {
   "cell_type": "code",
   "execution_count": null,
   "id": "d2adfce0",
   "metadata": {},
   "outputs": [],
   "source": [
    "# rename\n",
    "discovery.mets <- log.data.pareto\n",
    "dim(discovery.mets) # 935 x 816"
   ]
  },
  {
   "cell_type": "markdown",
   "id": "f993d0d8",
   "metadata": {},
   "source": [
    "# Remove duplicated patients"
   ]
  },
  {
   "cell_type": "code",
   "execution_count": null,
   "id": "70c8170c",
   "metadata": {},
   "outputs": [],
   "source": [
    "# count number of duplicated ID in each sample\n",
    "count_dup_ID <- table(discovery.mets$CLIENT_SAMPLE_ID)\n",
    "head(count_dup_ID)\n",
    "\n",
    "# merge frequency of duplicate into data\n",
    "discovery.mets.dup.ID <- merge(discovery.mets, count_dup_ID, by.x = \"CLIENT_SAMPLE_ID\", by.y = \"Var1\") #1986 x 1736\n",
    "head(discovery.mets.dup.ID$Freq)\n",
    "table(discovery.mets.dup.ID$Freq) # 921 unique; 14 repeat 2 times"
   ]
  },
  {
   "cell_type": "code",
   "execution_count": null,
   "id": "68fd5e29",
   "metadata": {},
   "outputs": [],
   "source": [
    "# filter unique biobank ID\n",
    "discovery.mets.unique.ID <- discovery.mets.dup.ID %>% filter (Freq == \"1\") # 921\n",
    "head(discovery.mets.unique.ID$Freq)\n",
    "\n",
    "# filter duplicated ID\n",
    "discovery.mets.filter.dup.ID <- discovery.mets.dup.ID %>% filter(Freq == \"2\") # 14\n",
    "head(discovery.mets.filter.dup.ID$Freq)\n",
    "select(discovery.mets.filter.dup.ID,CLIENT_SAMPLE_ID,missing.value)"
   ]
  },
  {
   "cell_type": "code",
   "execution_count": null,
   "id": "71d8663d",
   "metadata": {},
   "outputs": [],
   "source": [
    "# remove duplicated samples with higher missing value of metss\n",
    "discovery.mets.filter.dup.ID.1 <- discovery.mets.filter.dup.ID %>% \n",
    "    arrange(CLIENT_SAMPLE_ID, missing.value) %>%\n",
    "    group_by(CLIENT_SAMPLE_ID) %>% \n",
    "    mutate(missing_rank = rank(missing.value)) %>%\n",
    "    arrange(missing_rank) %>%\n",
    "    as.data.frame()\n",
    "\n",
    "select(discovery.mets.filter.dup.ID.1,CLIENT_SAMPLE_ID, missing.value, missing_rank)\n",
    "\n",
    "discovery.mets.filter.dup.ID.2 <- discovery.mets.filter.dup.ID.1 %>% filter(missing_rank == \"1\") #7\n",
    "dim(discovery.mets.filter.dup.ID.2) # 7 x 818"
   ]
  },
  {
   "cell_type": "code",
   "execution_count": null,
   "id": "02e810bc",
   "metadata": {},
   "outputs": [],
   "source": [
    "# combine 921 unique ID and 7 selected ID from duplicated ID file\n",
    "discovery.mets.final.filter.dup.ID <- bind_rows(discovery.mets.unique.ID, discovery.mets.filter.dup.ID.2)\n",
    "dim(discovery.mets.final.filter.dup.ID) # 928 x 818"
   ]
  },
  {
   "cell_type": "code",
   "execution_count": null,
   "id": "001bc003",
   "metadata": {},
   "outputs": [],
   "source": [
    "head(discovery.mets.final.filter.dup.ID)"
   ]
  },
  {
   "cell_type": "code",
   "execution_count": null,
   "id": "b840a63e",
   "metadata": {},
   "outputs": [],
   "source": [
    "# relocate columns to front, after missing.value\n",
    "discovery.mets.final.filter.dup.ID <- discovery.mets.final.filter.dup.ID %>% relocate(Freq, missing_rank, \n",
    "                                                                                .after = missing.value)\n",
    "dim(discovery.mets.final.filter.dup.ID)\n",
    "head(discovery.mets.final.filter.dup.ID)"
   ]
  },
  {
   "cell_type": "code",
   "execution_count": null,
   "id": "41513914",
   "metadata": {},
   "outputs": [],
   "source": [
    "which(colnames(discovery.mets.final.filter.dup.ID) == 'M35')"
   ]
  },
  {
   "cell_type": "code",
   "execution_count": null,
   "id": "4d496e7e",
   "metadata": {},
   "outputs": [],
   "source": [
    "final.discovery.mets <- discovery.mets.final.filter.dup.ID[,-c(2:8)]\n",
    "dim(final.discovery.mets)\n",
    "head(final.discovery.mets)"
   ]
  },
  {
   "cell_type": "code",
   "execution_count": null,
   "id": "87c4f91e",
   "metadata": {},
   "outputs": [],
   "source": []
  },
  {
   "cell_type": "code",
   "execution_count": null,
   "id": "d3ab8808",
   "metadata": {},
   "outputs": [],
   "source": []
  }
 ],
 "metadata": {
  "kernelspec": {
   "display_name": "R",
   "language": "R",
   "name": "ir"
  },
  "language_info": {
   "codemirror_mode": "r",
   "file_extension": ".r",
   "mimetype": "text/x-r-source",
   "name": "R",
   "pygments_lexer": "r",
   "version": "4.1.0"
  }
 },
 "nbformat": 4,
 "nbformat_minor": 5
}
