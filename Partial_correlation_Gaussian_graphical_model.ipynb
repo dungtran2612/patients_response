{
 "cells": [
  {
   "cell_type": "code",
   "execution_count": null,
   "id": "d0338c3e",
   "metadata": {},
   "outputs": [],
   "source": [
    "# load package\n",
    "library(GeneNet)\n",
    "packageVersion('GeneNet')\n",
    "library(dplyr)\n",
    "packageVersion('dplyr')"
   ]
  },
  {
   "cell_type": "code",
   "execution_count": null,
   "id": "b12775ec",
   "metadata": {},
   "outputs": [],
   "source": [
    "# set directory\n",
    "project.dir = '...'\n",
    "data.dir = '...'\n",
    "results.dir = '...'"
   ]
  },
  {
   "cell_type": "code",
   "execution_count": null,
   "id": "edea3db2",
   "metadata": {},
   "outputs": [],
   "source": [
    "# load QC ed metabolomics data of data cohort\n",
    "data.met <- read.csv(file.path(data.dir, 'Metabolites_QC.csv'))\n",
    "dim(data.met)\n",
    "length(unique(data.met$Subject_Id)) # 711 subjects\n",
    "head(data.met)"
   ]
  },
  {
   "cell_type": "code",
   "execution_count": null,
   "id": "a0cba89d",
   "metadata": {},
   "outputs": [],
   "source": [
    "# estimate of partial correlations\n",
    "estimated.pcor <- ggm.estimate.pcor(data.met[,-c(1)]) #static and shrinkage\n",
    "dim(estimated.pcor)\n",
    "head(estimated.pcor)"
   ]
  },
  {
   "cell_type": "code",
   "execution_count": null,
   "id": "b7c0becd",
   "metadata": {},
   "outputs": [],
   "source": [
    "met.node.id <- data.frame(colnames(estimated.pcor),c(1:810))\n",
    "colnames(met.node.id) <- c('metabolite','node.id')\n",
    "dim(met.node.id)\n",
    "head(met.node.id)"
   ]
  },
  {
   "cell_type": "code",
   "execution_count": null,
   "id": "841bf9f1",
   "metadata": {},
   "outputs": [],
   "source": [
    "# merge to have metabolite names\n",
    "met.info <- read.csv(file.path(data.dir, 'Metabolites_ID_final.csv'))\n",
    "met.node.id <- met.node.id %>% left_join(met.info[,c('metabolite','CHEMICAL_NAME')], by = 'metabolite')\n",
    "dim(met.node.id)\n",
    "head(met.node.id)"
   ]
  },
  {
   "cell_type": "code",
   "execution_count": null,
   "id": "b3a8e1c2",
   "metadata": {},
   "outputs": [],
   "source": [
    "# p-values, q-values and posterior probabilities for each potential edge\n",
    "node.results <- network.test.edges(estimated.pcor)\n",
    "node.results"
   ]
  },
  {
   "cell_type": "code",
   "execution_count": null,
   "id": "7608c267",
   "metadata": {},
   "outputs": [],
   "source": [
    "node.results.w.med.id <- merge(node.results,met.node.id, by.x = 'node1', by.y = 'node.id')\n",
    "dim(node.results.w.med.id)\n",
    "head(node.results.w.med.id)"
   ]
  },
  {
   "cell_type": "code",
   "execution_count": null,
   "id": "aef854f8",
   "metadata": {},
   "outputs": [],
   "source": [
    "node.results <- node.results[,c(1:5)] # select 1st five columns\n",
    "node.results "
   ]
  },
  {
   "cell_type": "code",
   "execution_count": null,
   "id": "eeac5b7c",
   "metadata": {},
   "outputs": [],
   "source": [
    "colnames(node.results.w.med.id)[colnames(node.results.w.med.id) == 'CHEMICAL_NAME'] <- 'metabolite.1'\n",
    "head(node.results.w.med.id)"
   ]
  },
  {
   "cell_type": "code",
   "execution_count": null,
   "id": "cd3c324b",
   "metadata": {},
   "outputs": [],
   "source": [
    "node.results.w.med.id <- merge(node.results.w.med.id,met.node.id, by.x = 'node2', by.y = 'node.id')\n",
    "dim(node.results.w.med.id)\n",
    "head(node.results.w.med.id)"
   ]
  },
  {
   "cell_type": "code",
   "execution_count": null,
   "id": "a349b4f3",
   "metadata": {},
   "outputs": [],
   "source": [
    "colnames(node.results.w.med.id)[colnames(node.results.w.med.id) == 'CHEMICAL_NAME'] <- 'metabolite.2'\n",
    "head(node.results.w.med.id)"
   ]
  },
  {
   "cell_type": "code",
   "execution_count": null,
   "id": "77b51551",
   "metadata": {},
   "outputs": [],
   "source": [
    "node.results.w.med.id <- node.results.w.med.id %>% select(metabolite.1,metabolite.2,pcor,pval,qval)\n",
    "dim(node.results.w.med.id)\n",
    "head(node.results.w.med.id)"
   ]
  },
  {
   "cell_type": "code",
   "execution_count": null,
   "id": "d987a40f",
   "metadata": {},
   "outputs": [],
   "source": [
    "# filter only significant edges based on FDR cut off of 0.05\n",
    "sig.corr.05 <- node.results.w.med.id %>% filter(qval < 0.05)\n",
    "sig.corr.05"
   ]
  },
  {
   "cell_type": "code",
   "execution_count": null,
   "id": "6879ba13",
   "metadata": {},
   "outputs": [],
   "source": [
    "dim(sig.corr.05) # number of edges\n",
    "length(unique(c(sig.corr.05$`metabolite.1`,sig.corr.05$`metabolite.2`))) # number of nodes:"
   ]
  },
  {
   "cell_type": "code",
   "execution_count": null,
   "id": "ec6267e5",
   "metadata": {},
   "outputs": [],
   "source": [
    "# load significant metabolites from linear model\n",
    "sig.mets <- read.csv(file.path(results.dir, 'nominally_significant_metabolites_adrenal_suppression.csv'))\n",
    "dim(sig.mets)\n",
    "head(sig.mets)"
   ]
  },
  {
   "cell_type": "code",
   "execution_count": null,
   "id": "2b2c9e3d",
   "metadata": {},
   "outputs": [],
   "source": [
    "sig.mets <- sig.mets %>% select(metabolite,CHEMICAL_NAME,SUPER_PATHWAY,SUB_PATHWAY)\n",
    "head(sig.mets)"
   ]
  },
  {
   "cell_type": "code",
   "execution_count": null,
   "id": "b9bc6255",
   "metadata": {},
   "outputs": [],
   "source": [
    "# filter only significant nodes\n",
    "sig.mets.corr <- filter(sig.corr.05, metabolite.1 %in% sig.mets$CHEMICAL_NAME & metabolite.2 %in% sig.mets$CHEMICAL_NAME)\n",
    "sig.mets.corr"
   ]
  },
  {
   "cell_type": "code",
   "execution_count": null,
   "id": "ca28f980",
   "metadata": {},
   "outputs": [],
   "source": [
    "length(unique(c(sig.mets.corr$`metabolite.1`,sig.mets.corr$`metabolite.2`)))\n",
    "dim(sig.mets.corr)"
   ]
  },
  {
   "cell_type": "code",
   "execution_count": null,
   "id": "e9b8640f",
   "metadata": {},
   "outputs": [],
   "source": [
    "summary(sig.mets.corr$pcor)"
   ]
  },
  {
   "cell_type": "code",
   "execution_count": null,
   "id": "39300932",
   "metadata": {},
   "outputs": [],
   "source": [
    "write.csv(sig.mets.corr, file.path(results.dir, 'partial_correlation_nominally_sig_mets_from_linear_models.csv'), row.names = FALSE)"
   ]
  },
  {
   "cell_type": "code",
   "execution_count": null,
   "id": "24e95eeb",
   "metadata": {},
   "outputs": [],
   "source": []
  }
 ],
 "metadata": {
  "kernelspec": {
   "display_name": "R",
   "language": "R",
   "name": "ir"
  },
  "language_info": {
   "codemirror_mode": "r",
   "file_extension": ".r",
   "mimetype": "text/x-r-source",
   "name": "R",
   "pygments_lexer": "r",
   "version": "4.1.0"
  }
 },
 "nbformat": 4,
 "nbformat_minor": 5
}
