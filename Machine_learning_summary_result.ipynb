{
 "cells": [
  {
   "cell_type": "markdown",
   "id": "8d5b96fc",
   "metadata": {},
   "source": [
    "**Classification ability of the three-metabolite model based on machine learning algorithms**"
   ]
  },
  {
   "cell_type": "code",
   "execution_count": null,
   "id": "61a3bea0",
   "metadata": {},
   "outputs": [],
   "source": [
    "# load library\n",
    "library(dplyr)\n",
    "packageVersion('dplyr')\n",
    "library(readxl)\n",
    "packageVersion('readxl')"
   ]
  },
  {
   "cell_type": "code",
   "execution_count": null,
   "id": "84150c0d",
   "metadata": {},
   "outputs": [],
   "source": [
    "# data directory\n",
    "project.dir = '...'\n",
    "data.dir = '...'\n",
    "results.dir = '...'\n",
    "regeps.dir = '...'\n",
    "mets.dir = file.path(regeps.dir, '...')"
   ]
  },
  {
   "cell_type": "code",
   "execution_count": null,
   "id": "f4f78fbb",
   "metadata": {},
   "outputs": [],
   "source": [
    "# load machine learning results of three metabolites\n",
    "three.mets <- read.csv(file.path(results.dir, 'Prediction_model_result_of_validated_sig_metabolites.csv'))\n",
    "dim(three.mets)\n",
    "head(three.mets)"
   ]
  },
  {
   "cell_type": "code",
   "execution_count": null,
   "id": "bddd888f",
   "metadata": {},
   "outputs": [],
   "source": [
    "# merge name of metabolite\n",
    "# load metabolite info\n",
    "mets.info <- read_excel(file.path(mets.dir,\"DATA TABLES.XLSX\"), sheet = \"Chemical Annotation\")\n",
    "# add one more column: met_id\n",
    "mets.info$metabolite <- paste('M', mets.info$CHEM_ID, sep = '')\n",
    "mets.info <- mets.info %>% select(SUPER_PATHWAY, SUB_PATHWAY, CHEMICAL_NAME, metabolite)"
   ]
  },
  {
   "cell_type": "code",
   "execution_count": null,
   "id": "a2acdeb5",
   "metadata": {},
   "outputs": [],
   "source": [
    "# merge with machine learning result\n",
    "three.mets <- three.mets %>% left_join(mets.info, by = 'metabolite')\n",
    "dim(three.mets)\n",
    "head(three.mets)"
   ]
  },
  {
   "cell_type": "code",
   "execution_count": null,
   "id": "6fab2db3",
   "metadata": {},
   "outputs": [],
   "source": [
    "# move met info columns to after metabolite column\n",
    "# Columns to move to the beginning\n",
    "columns.to.move <- c(\"SUPER_PATHWAY\", \"SUB_PATHWAY\", \"CHEMICAL_NAME\")\n",
    "\n",
    "# Move columns to the beginning\n",
    "three.mets <- three.mets %>%\n",
    "  select(seed, metabolite, all_of(columns.to.move), everything())\n",
    "head(three.mets)"
   ]
  },
  {
   "cell_type": "code",
   "execution_count": null,
   "id": "f3c407d3",
   "metadata": {},
   "outputs": [],
   "source": [
    "# replace NA in chemical name column to all\n",
    "three.mets <- three.mets %>%\n",
    "  mutate(CHEMICAL_NAME = ifelse(is.na(CHEMICAL_NAME), \"all\", CHEMICAL_NAME))\n",
    "head(three.mets)"
   ]
  },
  {
   "cell_type": "code",
   "execution_count": null,
   "id": "3a22cf09",
   "metadata": {},
   "outputs": [],
   "source": [
    "# calculate logistic train AUC\n",
    "log.train.mean <- three.mets %>%\n",
    "  group_by(CHEMICAL_NAME) %>%\n",
    "  summarize(logistic_train_mean_auc = mean(logistic_train_auc))\n",
    "log.train.mean$logistic_train_mean_auc <- round(log.train.mean$logistic_train_mean_auc, digits = 2)\n",
    "log.train.mean\n",
    "\n",
    "# calculate logistic test AUC\n",
    "log.test.mean <- three.mets %>%\n",
    "  group_by(CHEMICAL_NAME) %>%\n",
    "  summarize(logistic_test_mean_auc = mean(logistic_test_auc))\n",
    "log.test.mean$logistic_test_mean_auc <- round(log.test.mean$logistic_test_mean_auc, digits = 2)\n",
    "log.test.mean"
   ]
  },
  {
   "cell_type": "code",
   "execution_count": null,
   "id": "b84973e4",
   "metadata": {},
   "outputs": [],
   "source": [
    "# calculate logistic train AUC (min)\n",
    "log.train.min <- three.mets %>%\n",
    "  group_by(CHEMICAL_NAME) %>%\n",
    "  summarize(logistic_train_min_auc = min(logistic_train_auc))\n",
    "log.train.min$logistic_train_min_auc <- round(log.train.min$logistic_train_min_auc, digits = 2)\n",
    "log.train.min\n",
    "\n",
    "# calculate logistic test AUC\n",
    "log.test.min <- three.mets %>%\n",
    "  group_by(CHEMICAL_NAME) %>%\n",
    "  summarize(logistic_test_min_auc = min(logistic_test_auc))\n",
    "log.test.min$logistic_test_min_auc <- round(log.test.min$logistic_test_min_auc, digits = 2)\n",
    "log.test.min"
   ]
  },
  {
   "cell_type": "code",
   "execution_count": null,
   "id": "ccf3727e",
   "metadata": {
    "scrolled": true
   },
   "outputs": [],
   "source": [
    "# calculate logistic train AUC (max)\n",
    "log.train.max <- three.mets %>%\n",
    "  group_by(CHEMICAL_NAME) %>%\n",
    "  summarize(logistic_train_max_auc = max(logistic_train_auc))\n",
    "log.train.max$logistic_train_max_auc <- round(log.train.max$logistic_train_max_auc, digits = 2)\n",
    "log.train.max\n",
    "\n",
    "# calculate logistic test AUC\n",
    "log.test.max <- three.mets %>%\n",
    "  group_by(CHEMICAL_NAME) %>%\n",
    "  summarize(logistic_test_max_auc = max(logistic_test_auc))\n",
    "log.test.max$logistic_test_max_auc <- round(log.test.max$logistic_test_max_auc, digits = 2)\n",
    "log.test.max"
   ]
  },
  {
   "cell_type": "code",
   "execution_count": null,
   "id": "aa8ecd47",
   "metadata": {},
   "outputs": [],
   "source": [
    "# merge log test\n",
    "log.test <- log.train.mean %>% left_join(log.test.mean, by = 'CHEMICAL_NAME') %>%\n",
    "            left_join(log.train.min, by = 'CHEMICAL_NAME') %>%\n",
    "            left_join(log.test.min, by = 'CHEMICAL_NAME') %>%\n",
    "            left_join(log.train.max, by = 'CHEMICAL_NAME') %>%\n",
    "            left_join(log.test.max, by = 'CHEMICAL_NAME')\n",
    "log.test$logistic_train_auc <- paste(log.test$logistic_train_mean_auc, '(', log.test$logistic_train_min_auc, ',', log.test$logistic_train_max_auc, ')')\n",
    "log.test$logistic_test_auc <- paste(log.test$logistic_test_mean_auc, '(', log.test$logistic_test_min_auc, ',', log.test$logistic_test_max_auc, ')')\n",
    "log.test <- log.test %>% select(CHEMICAL_NAME, logistic_train_auc, logistic_test_auc)\n",
    "log.test"
   ]
  },
  {
   "cell_type": "code",
   "execution_count": null,
   "id": "94fd643d",
   "metadata": {},
   "outputs": [],
   "source": [
    "# calculate SVC AUC\n",
    "svc.train.mean <- three.mets %>%\n",
    "  group_by(CHEMICAL_NAME) %>%\n",
    "  summarize(svc_train_mean_auc = mean(svc_train_auc))\n",
    "svc.train.mean$svc_train_mean_auc <- round(svc.train.mean$svc_train_mean_auc, digits = 2)\n",
    "svc.train.mean\n",
    "\n",
    "svc.test.mean <- three.mets %>%\n",
    "  group_by(CHEMICAL_NAME) %>%\n",
    "  summarize(svc_test_mean_auc = mean(svc_test_auc))\n",
    "svc.test.mean$svc_test_mean_auc <- round(svc.test.mean$svc_test_mean_auc, digits = 2)\n",
    "svc.test.mean"
   ]
  },
  {
   "cell_type": "code",
   "execution_count": null,
   "id": "95ab355f",
   "metadata": {},
   "outputs": [],
   "source": [
    "# calculate SVC AUC\n",
    "svc.train.min <- three.mets %>%\n",
    "  group_by(CHEMICAL_NAME) %>%\n",
    "  summarize(svc_train_min_auc = min(svc_train_auc))\n",
    "svc.train.min$svc_train_min_auc <- round(svc.train.min$svc_train_min_auc, digits = 2)\n",
    "svc.train.min\n",
    "\n",
    "svc.test.min <- three.mets %>%\n",
    "  group_by(CHEMICAL_NAME) %>%\n",
    "  summarize(svc_test_min_auc = min(svc_test_auc))\n",
    "svc.test.min$svc_test_min_auc <- round(svc.test.min$svc_test_min_auc, digits = 2)\n",
    "svc.test.min"
   ]
  },
  {
   "cell_type": "code",
   "execution_count": null,
   "id": "4732324a",
   "metadata": {},
   "outputs": [],
   "source": [
    "# calculate SVC AUC\n",
    "svc.train.max <- three.mets %>%\n",
    "  group_by(CHEMICAL_NAME) %>%\n",
    "  summarize(svc_train_max_auc = max(svc_train_auc))\n",
    "svc.train.max$svc_train_max_auc <- round(svc.train.max$svc_train_max_auc, digits = 2)\n",
    "svc.train.max\n",
    "\n",
    "svc.test.max <- three.mets %>%\n",
    "  group_by(CHEMICAL_NAME) %>%\n",
    "  summarize(svc_test_max_auc = max(svc_test_auc))\n",
    "svc.test.max$svc_test_max_auc <- round(svc.test.max$svc_test_max_auc, digits = 2)\n",
    "svc.test.max"
   ]
  },
  {
   "cell_type": "code",
   "execution_count": null,
   "id": "6d69083c",
   "metadata": {},
   "outputs": [],
   "source": [
    "# merge svc test\n",
    "svc.test <- svc.train.mean %>% left_join(svc.test.mean, by = 'CHEMICAL_NAME') %>%\n",
    "            left_join(svc.train.min, by = 'CHEMICAL_NAME') %>%\n",
    "            left_join(svc.test.min, by = 'CHEMICAL_NAME') %>%\n",
    "            left_join(svc.train.max, by = 'CHEMICAL_NAME') %>%\n",
    "            left_join(svc.test.max, by = 'CHEMICAL_NAME')\n",
    "svc.test$svc_train_auc <- paste(svc.test$svc_train_mean_auc, '(', svc.test$svc_train_min_auc, ',', svc.test$svc_train_max_auc, ')')\n",
    "svc.test$svc_test_auc <- paste(svc.test$svc_test_mean_auc, '(', svc.test$svc_test_min_auc, ',', svc.test$svc_test_max_auc, ')')\n",
    "svc.test <- svc.test %>% select(CHEMICAL_NAME, svc_train_auc, svc_test_auc)\n",
    "svc.test"
   ]
  },
  {
   "cell_type": "code",
   "execution_count": null,
   "id": "6dea34b8",
   "metadata": {},
   "outputs": [],
   "source": [
    "# calculate forest AUC\n",
    "forest.train.mean <- three.mets %>%\n",
    "  group_by(CHEMICAL_NAME) %>%\n",
    "  summarize(forest_train_mean_auc = mean(forest_train_auc))\n",
    "forest.train.mean$forest_train_mean_auc <- round(forest.train.mean$forest_train_mean_auc, digits = 2)\n",
    "forest.train.mean\n",
    "\n",
    "forest.test.mean <- three.mets %>%\n",
    "  group_by(CHEMICAL_NAME) %>%\n",
    "  summarize(forest_test_mean_auc = mean(forest_test_auc))\n",
    "forest.test.mean$forest_test_mean_auc <- round(forest.test.mean$forest_test_mean_auc, digits = 2)\n",
    "forest.test.mean"
   ]
  },
  {
   "cell_type": "code",
   "execution_count": null,
   "id": "d86fe86a",
   "metadata": {},
   "outputs": [],
   "source": [
    "# calculate forest AUC (min)\n",
    "forest.train.min <- three.mets %>%\n",
    "  group_by(CHEMICAL_NAME) %>%\n",
    "  summarize(forest_train_min_auc = min(forest_train_auc))\n",
    "forest.train.min$forest_train_min_auc <- round(forest.train.min$forest_train_min_auc, digits = 2)\n",
    "forest.train.min\n",
    "\n",
    "forest.test.min <- three.mets %>%\n",
    "  group_by(CHEMICAL_NAME) %>%\n",
    "  summarize(forest_test_min_auc = min(forest_test_auc))\n",
    "forest.test.min$forest_test_min_auc <- round(forest.test.min$forest_test_min_auc, digits = 2)\n",
    "forest.test.min"
   ]
  },
  {
   "cell_type": "code",
   "execution_count": null,
   "id": "4f15dcc8",
   "metadata": {
    "scrolled": true
   },
   "outputs": [],
   "source": [
    "# calculate forest AUC (max)\n",
    "forest.train.max <- three.mets %>%\n",
    "  group_by(CHEMICAL_NAME) %>%\n",
    "  summarize(forest_train_max_auc = max(forest_train_auc))\n",
    "forest.train.max$forest_train_max_auc <- round(forest.train.max$forest_train_max_auc, digits = 2)\n",
    "forest.train.max\n",
    "\n",
    "forest.test.max <- three.mets %>%\n",
    "  group_by(CHEMICAL_NAME) %>%\n",
    "  summarize(forest_test_max_auc = max(forest_test_auc))\n",
    "forest.test.max$forest_test_max_auc <- round(forest.test.max$forest_test_max_auc, digits = 2)\n",
    "forest.test.max"
   ]
  },
  {
   "cell_type": "code",
   "execution_count": null,
   "id": "90f2b236",
   "metadata": {},
   "outputs": [],
   "source": [
    "# merge forest test\n",
    "forest.test <- forest.train.mean %>% left_join(forest.test.mean, by = 'CHEMICAL_NAME') %>%\n",
    "            left_join(forest.train.min, by = 'CHEMICAL_NAME') %>%\n",
    "            left_join(forest.test.min, by = 'CHEMICAL_NAME') %>%\n",
    "            left_join(forest.train.max, by = 'CHEMICAL_NAME') %>%\n",
    "            left_join(forest.test.max, by = 'CHEMICAL_NAME')\n",
    "forest.test$forest_train_auc <- paste(forest.test$forest_train_mean_auc, '(', forest.test$forest_train_min_auc, ',', forest.test$forest_train_max_auc, ')')\n",
    "forest.test$forest_test_auc <- paste(forest.test$forest_test_mean_auc, '(', forest.test$forest_test_min_auc, ',', forest.test$forest_test_max_auc, ')')\n",
    "forest.test <- forest.test %>% select(CHEMICAL_NAME, forest_train_auc, forest_test_auc)\n",
    "forest.test"
   ]
  },
  {
   "cell_type": "code",
   "execution_count": null,
   "id": "43ad569f",
   "metadata": {},
   "outputs": [],
   "source": [
    "# calculate gbc AUC\n",
    "gbc.train.mean <- three.mets %>%\n",
    "  group_by(CHEMICAL_NAME) %>%\n",
    "  summarize(gbc_train_mean_auc = mean(gbc_train_auc))\n",
    "gbc.train.mean$gbc_train_mean_auc <- round(gbc.train.mean$gbc_train_mean_auc, digits = 2)\n",
    "gbc.train.mean\n",
    "\n",
    "gbc.test.mean <- three.mets %>%\n",
    "  group_by(CHEMICAL_NAME) %>%\n",
    "  summarize(gbc_test_mean_auc = mean(gbc_test_auc))\n",
    "gbc.test.mean$gbc_test_mean_auc <- round(gbc.test.mean$gbc_test_mean_auc, digits = 2)\n",
    "gbc.test.mean"
   ]
  },
  {
   "cell_type": "code",
   "execution_count": null,
   "id": "7b09b08d",
   "metadata": {},
   "outputs": [],
   "source": [
    "# calculate gbc AUC (min)\n",
    "gbc.train.min <- three.mets %>%\n",
    "  group_by(CHEMICAL_NAME) %>%\n",
    "  summarize(gbc_train_min_auc = min(gbc_train_auc))\n",
    "gbc.train.min$gbc_train_min_auc <- round(gbc.train.min$gbc_train_min_auc, digits = 2)\n",
    "gbc.train.min\n",
    "\n",
    "gbc.test.min <- three.mets %>%\n",
    "  group_by(CHEMICAL_NAME) %>%\n",
    "  summarize(gbc_test_min_auc = min(gbc_test_auc))\n",
    "gbc.test.min$gbc_test_min_auc <- round(gbc.test.min$gbc_test_min_auc, digits = 2)\n",
    "gbc.test.min"
   ]
  },
  {
   "cell_type": "code",
   "execution_count": null,
   "id": "42a7002c",
   "metadata": {},
   "outputs": [],
   "source": [
    "# calculate gbc AUC (max)\n",
    "gbc.train.max <- three.mets %>%\n",
    "  group_by(CHEMICAL_NAME) %>%\n",
    "  summarize(gbc_train_max_auc = max(gbc_train_auc))\n",
    "gbc.train.max$gbc_train_max_auc <- round(gbc.train.max$gbc_train_max_auc, digits = 2)\n",
    "gbc.train.max\n",
    "\n",
    "gbc.test.max <- three.mets %>%\n",
    "  group_by(CHEMICAL_NAME) %>%\n",
    "  summarize(gbc_test_max_auc = max(gbc_test_auc))\n",
    "gbc.test.max$gbc_test_max_auc <- round(gbc.test.max$gbc_test_max_auc, digits = 2)\n",
    "gbc.test.max"
   ]
  },
  {
   "cell_type": "code",
   "execution_count": null,
   "id": "65ed8758",
   "metadata": {},
   "outputs": [],
   "source": [
    "# merge gbc test\n",
    "gbc.test <- gbc.train.mean %>% left_join(gbc.test.mean, by = 'CHEMICAL_NAME') %>%\n",
    "            left_join(gbc.train.min, by = 'CHEMICAL_NAME') %>%\n",
    "            left_join(gbc.test.min, by = 'CHEMICAL_NAME') %>%\n",
    "            left_join(gbc.train.max, by = 'CHEMICAL_NAME') %>%\n",
    "            left_join(gbc.test.max, by = 'CHEMICAL_NAME')\n",
    "gbc.test$gbc_train_auc <- paste(gbc.test$gbc_train_mean_auc, '(', gbc.test$gbc_train_min_auc, ',', gbc.test$gbc_train_max_auc, ')')\n",
    "gbc.test$gbc_test_auc <- paste(gbc.test$gbc_test_mean_auc, '(', gbc.test$gbc_test_min_auc, ',', gbc.test$gbc_test_max_auc, ')')\n",
    "gbc.test <- gbc.test %>% select(CHEMICAL_NAME, gbc_train_auc, gbc_test_auc)\n",
    "gbc.test"
   ]
  },
  {
   "cell_type": "code",
   "execution_count": null,
   "id": "33443a5e",
   "metadata": {},
   "outputs": [],
   "source": [
    "# calculate mlp AUC\n",
    "mlp.train.mean <- three.mets %>%\n",
    "  group_by(CHEMICAL_NAME) %>%\n",
    "  summarize(mlp_train_mean_auc = mean(mlp_train_auc))\n",
    "mlp.train.mean$mlp_train_mean_auc <- round(mlp.train.mean$mlp_train_mean_auc, digits = 2)\n",
    "mlp.train.mean\n",
    "\n",
    "mlp.test.mean <- three.mets %>%\n",
    "  group_by(CHEMICAL_NAME) %>%\n",
    "  summarize(mlp_test_mean_auc = mean(mlp_test_auc))\n",
    "mlp.test.mean$mlp_test_mean_auc <- round(mlp.test.mean$mlp_test_mean_auc, digits = 2)\n",
    "mlp.test.mean"
   ]
  },
  {
   "cell_type": "code",
   "execution_count": null,
   "id": "63ef65a5",
   "metadata": {},
   "outputs": [],
   "source": [
    "# calculate mlp AUC (min)\n",
    "mlp.train.min <- three.mets %>%\n",
    "  group_by(CHEMICAL_NAME) %>%\n",
    "  summarize(mlp_train_min_auc = min(mlp_train_auc))\n",
    "mlp.train.min$mlp_train_min_auc <- round(mlp.train.min$mlp_train_min_auc, digits = 2)\n",
    "mlp.train.min\n",
    "\n",
    "mlp.test.min <- three.mets %>%\n",
    "  group_by(CHEMICAL_NAME) %>%\n",
    "  summarize(mlp_test_min_auc = min(mlp_test_auc))\n",
    "mlp.test.min$mlp_test_min_auc <- round(mlp.test.min$mlp_test_min_auc, digits = 2)\n",
    "mlp.test.min"
   ]
  },
  {
   "cell_type": "code",
   "execution_count": null,
   "id": "577dd9f6",
   "metadata": {},
   "outputs": [],
   "source": [
    "# calculate mlp AUC (max)\n",
    "mlp.train.max <- three.mets %>%\n",
    "  group_by(CHEMICAL_NAME) %>%\n",
    "  summarize(mlp_train_max_auc = max(mlp_train_auc))\n",
    "mlp.train.max$mlp_train_max_auc <- round(mlp.train.max$mlp_train_max_auc, digits = 2)\n",
    "mlp.train.max\n",
    "\n",
    "mlp.test.max <- three.mets %>%\n",
    "  group_by(CHEMICAL_NAME) %>%\n",
    "  summarize(mlp_test_max_auc = max(mlp_test_auc))\n",
    "mlp.test.max$mlp_test_max_auc <- round(mlp.test.max$mlp_test_max_auc, digits = 2)\n",
    "mlp.test.max"
   ]
  },
  {
   "cell_type": "code",
   "execution_count": null,
   "id": "93d37d5c",
   "metadata": {},
   "outputs": [],
   "source": [
    "# merge mlp test\n",
    "mlp.test <- mlp.train.mean %>% left_join(mlp.test.mean, by = 'CHEMICAL_NAME') %>%\n",
    "            left_join(mlp.train.min, by = 'CHEMICAL_NAME') %>%\n",
    "            left_join(mlp.test.min, by = 'CHEMICAL_NAME') %>%\n",
    "            left_join(mlp.train.max, by = 'CHEMICAL_NAME') %>%\n",
    "            left_join(mlp.test.max, by = 'CHEMICAL_NAME')\n",
    "mlp.test$mlp_train_auc <- paste(mlp.test$mlp_train_mean_auc, '(', mlp.test$mlp_train_min_auc, ',', mlp.test$mlp_train_max_auc, ')')\n",
    "mlp.test$mlp_test_auc <- paste(mlp.test$mlp_test_mean_auc, '(', mlp.test$mlp_test_min_auc, ',', mlp.test$mlp_test_max_auc, ')')\n",
    "mlp.test <- mlp.test %>% select(CHEMICAL_NAME, mlp_train_auc, mlp_test_auc)\n",
    "mlp.test"
   ]
  },
  {
   "cell_type": "code",
   "execution_count": null,
   "id": "479e7127",
   "metadata": {},
   "outputs": [],
   "source": [
    "# merge all\n",
    "result <- log.test %>% left_join(svc.test, by = 'CHEMICAL_NAME') %>%\n",
    "                        left_join(forest.test, by = 'CHEMICAL_NAME') %>%\n",
    "                        left_join(gbc.test, by = 'CHEMICAL_NAME') %>%\n",
    "                        left_join(mlp.test, by = 'CHEMICAL_NAME')\n",
    "result"
   ]
  },
  {
   "cell_type": "code",
   "execution_count": null,
   "id": "02b68185",
   "metadata": {},
   "outputs": [],
   "source": [
    "# Supplemental Table 2: Classification ability of the three-metabolite model based on machine learning algorithms\n",
    "write.csv(result, file.path(results.dir, 'Classification_ability_of_the_three-metabolite_model_machine_learning.csv'), row.names = FALSE)"
   ]
  },
  {
   "cell_type": "code",
   "execution_count": null,
   "id": "4ae5b4ad",
   "metadata": {},
   "outputs": [],
   "source": [
    "# load machine learning of three metabolites and other variables\n",
    "three.mets.other.vars <- read.csv(file.path(results.dir, 'Prediction_model_result_of_validated_sig_metabolites_and_other_variables.csv'))\n",
    "dim(three.mets.other.vars)\n",
    "head(three.mets.other.vars)"
   ]
  },
  {
   "cell_type": "code",
   "execution_count": null,
   "id": "d4a37016",
   "metadata": {},
   "outputs": [],
   "source": [
    "mean.auc.values <- colMeans(three.mets.other.vars[, -1])\n",
    "\n",
    "# Round the mean values to 2 decimal places\n",
    "rounded.mean.auc.values <- round(mean.auc.values, digits = 2)\n",
    "rounded.mean.auc.values "
   ]
  },
  {
   "cell_type": "code",
   "execution_count": null,
   "id": "02900a41",
   "metadata": {},
   "outputs": [],
   "source": [
    "min.auc.values <- sapply(three.mets.other.vars[, -1],min)\n",
    "# Round the min values to 2 decimal places\n",
    "rounded.min.auc.values <- round(min.auc.values, digits = 2)\n",
    "rounded.min.auc.values"
   ]
  },
  {
   "cell_type": "code",
   "execution_count": null,
   "id": "bf361dae",
   "metadata": {},
   "outputs": [],
   "source": [
    "max.auc.values <- sapply(three.mets.other.vars[, -1],max)\n",
    "# Round the max values to 2 decimal places\n",
    "rounded.max.auc.values <- round(max.auc.values, digits = 2)\n",
    "rounded.max.auc.values"
   ]
  },
  {
   "cell_type": "code",
   "execution_count": null,
   "id": "50aec8c1",
   "metadata": {},
   "outputs": [],
   "source": []
  }
 ],
 "metadata": {
  "kernelspec": {
   "display_name": "R",
   "language": "R",
   "name": "ir"
  },
  "language_info": {
   "codemirror_mode": "r",
   "file_extension": ".r",
   "mimetype": "text/x-r-source",
   "name": "R",
   "pygments_lexer": "r",
   "version": "4.1.0"
  }
 },
 "nbformat": 4,
 "nbformat_minor": 5
}
