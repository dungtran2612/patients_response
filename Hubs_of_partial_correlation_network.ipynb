{
 "cells": [
  {
   "cell_type": "code",
   "execution_count": null,
   "id": "ea5f3524",
   "metadata": {},
   "outputs": [],
   "source": [
    "# load library\n",
    "import pandas as pd\n",
    "import numpy as np\n",
    "import networkx as nx\n",
    "import matplotlib\n",
    "import matplotlib.pyplot as plt"
   ]
  },
  {
   "cell_type": "code",
   "execution_count": null,
   "id": "60a88f64",
   "metadata": {},
   "outputs": [],
   "source": [
    "# library version\n",
    "print(pd.__version__)\n",
    "print(np.__version__)\n",
    "print(np.__version__)\n",
    "print(matplotlib.__version__)"
   ]
  },
  {
   "cell_type": "code",
   "execution_count": null,
   "id": "1976a42a",
   "metadata": {},
   "outputs": [],
   "source": [
    "# Load partial correlation of metabolomics data\n",
    "input_dir = '...'\n",
    "sig_mets_par_corr = pd.read_csv(input_dir + 'partial_correlation_nominally_sig_mets_from_linear_models.csv')\n",
    "sig_mets_par_corr"
   ]
  },
  {
   "cell_type": "code",
   "execution_count": null,
   "id": "27c8a3c0",
   "metadata": {},
   "outputs": [],
   "source": [
    "sig_mets_par_corr = sig_mets_par_corr.loc[sig_mets_par_corr['metabolite.1'] != sig_mets_par_corr['metabolite.2'], : ]\n",
    "sig_mets_par_corr\n",
    "sig_mets_par_corr['pcor'].hist()"
   ]
  },
  {
   "cell_type": "code",
   "execution_count": null,
   "id": "365609b5",
   "metadata": {},
   "outputs": [],
   "source": [
    "metgraph = nx.from_pandas_edgelist(sig_mets_par_corr,'metabolite.1','metabolite.2','pcor')\n",
    "plt.figure(figsize=(10,10))\n",
    "nx.draw(metgraph, with_labels=True)\n",
    "plt.show()"
   ]
  },
  {
   "cell_type": "code",
   "execution_count": null,
   "id": "166f457d",
   "metadata": {},
   "outputs": [],
   "source": [
    "nodes = list(metgraph.nodes())\n",
    "output = []\n",
    "node_attrs = []\n",
    "for node in nodes:\n",
    "    neighborhood = [node] + list(metgraph.neighbors(node))\n",
    "    subgraph = metgraph.subgraph(neighborhood)\n",
    "    colormap = np.array(['lightgray']*len(neighborhood),dtype='<U12')\n",
    "    colormap[np.array(subgraph.nodes()) == node] = 'orange'\n",
    "    np.array(subgraph.nodes()) == node\n",
    "    edges = subgraph.edges()\n",
    "    weights = [subgraph[u][v]['pcor']*5 for u,v in edges]\n",
    "    plt.figure(figsize=(8,4))\n",
    "    pos = nx.spring_layout(subgraph)\n",
    "    nx.draw(subgraph, pos, with_labels=True, node_color=colormap, font_size=10, width=weights, edge_color='gray')\n",
    "    #nx.draw_networkx_edge_labels(subgraph,pos,edge_labels=nx.get_edge_attributes(subgraph,'pcor'))\n",
    "    node_attrs.append([node, metgraph.degree(node),nx.density(subgraph)])\n",
    "    print(str([node, metgraph.degree(node),nx.density(subgraph)]))\n",
    "    output.append([node, metgraph.degree(node),nx.density(subgraph)])\n",
    "    plt.margins(x=0.5)\n",
    "    plt.show()\n",
    "    print()\n",
    "    print('---------------------------------------------------------------------')\n",
    "    print()"
   ]
  },
  {
   "cell_type": "code",
   "execution_count": null,
   "id": "fa2d8fca",
   "metadata": {},
   "outputs": [],
   "source": [
    "output #degree"
   ]
  },
  {
   "cell_type": "code",
   "execution_count": null,
   "id": "ccce17a0",
   "metadata": {},
   "outputs": [],
   "source": [
    "output_dir = '...'\n",
    "pd.DataFrame(output).to_csv(output_dir + 'Hub_Partial_Correlation_Network.csv', index = False)"
   ]
  },
  {
   "cell_type": "code",
   "execution_count": null,
   "id": "fa23999e",
   "metadata": {},
   "outputs": [],
   "source": []
  }
 ],
 "metadata": {
  "kernelspec": {
   "display_name": "Jupyter Conda Test Env",
   "language": "python",
   "name": "myenv"
  },
  "language_info": {
   "codemirror_mode": {
    "name": "ipython",
    "version": 3
   },
   "file_extension": ".py",
   "mimetype": "text/x-python",
   "name": "python",
   "nbconvert_exporter": "python",
   "pygments_lexer": "ipython3",
   "version": "3.11.5"
  }
 },
 "nbformat": 4,
 "nbformat_minor": 5
}
