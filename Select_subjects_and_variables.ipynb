{
 "cells": [
  {
   "cell_type": "code",
   "execution_count": null,
   "id": "cdbb1ebb",
   "metadata": {},
   "outputs": [],
   "source": [
    "# Load R packages\n",
    "library(dplyr)\n",
    "packageVersion('dplyr') # version 1.1.0\n",
    "library(readxl)\n",
    "packageVersion('readxl') # version 1.4.1"
   ]
  },
  {
   "cell_type": "code",
   "execution_count": null,
   "id": "43b6cddd",
   "metadata": {},
   "outputs": [],
   "source": [
    "# set directory\n",
    "project.dir = '...'\n",
    "data.dir = '...'\n",
    "results.dir = '...'\n",
    "regeps.dir = '...'\n",
    "cleaned.rpdr.dir = file.path(regeps.dir, '...')"
   ]
  },
  {
   "cell_type": "code",
   "execution_count": null,
   "id": "185f68ae",
   "metadata": {},
   "outputs": [],
   "source": [
    "# Load cleaned RPDR\n",
    "data <- read.csv(file.path(cleaned.rpdr.dir, 'pheno.csv'))\n",
    "dim(data)\n",
    "length(unique(data$Subject_Id)) # 928 subjects"
   ]
  },
  {
   "cell_type": "markdown",
   "id": "0d0127e6",
   "metadata": {},
   "source": [
    "# Select interested subjects"
   ]
  },
  {
   "cell_type": "markdown",
   "id": "ee7e3411",
   "metadata": {},
   "source": [
    "- Have asthma diagnosis, ICS prescription and cortisol measurement;\n",
    "- Remove COPD >= 0.8 and primary adrenocortical insufficiency;\n",
    "- Adult (Age at plasma collection > 18);\n",
    "- Have prescription of corticosteroids (ICS + OCS) within 5 years of plasma collection (Total prescription > 0);\n",
    "- Have ICS dosage information within 5 years of plasma collection from RPDR;\n",
    "- Remove unknown race, smoking status and BMI"
   ]
  },
  {
   "cell_type": "code",
   "execution_count": null,
   "id": "6656a3ac",
   "metadata": {},
   "outputs": [],
   "source": [
    "selected.subjects <- data %>% filter(Any_Asthma_Diagnosis_Existence_Yes_No == 'Yes' &\n",
    "                                       Any_ICS_Medication_Existence_Yes_No == 'Yes' & \n",
    "                                       Any_Cortisol_no_ACTH_Existence_Yes_No == 'Yes' &\n",
    "                                       COPD_current_or_past_history_custom_PPV_greater_0.80PPV_Existence_Yes_No != 'Yes' &\n",
    "                                       Primary_adrenocortical_insufficiency_Existence_Yes_No != 'Yes' &\n",
    "                                       Age_at_plasma_collection_date >= 18 &\n",
    "                                       Corticosteroids_total_number_of_prescriptions_within_5y > 0 &\n",
    "                                       !is.na(ICS_Dose_Classification_5Y_Median) &\n",
    "                                       Closest_collect_date_smoking_status != 'Unknown' &\n",
    "                                       Race_White_KNN_impute_missing != 'Unknown' &\n",
    "                                       !is.na(BMI_median_closest_measure_date_to_collect_date))\n",
    "dim(selected.subjects) # 711 selected subjects"
   ]
  },
  {
   "cell_type": "markdown",
   "id": "3a4cbfda",
   "metadata": {},
   "source": [
    "# Summary statistics"
   ]
  },
  {
   "cell_type": "code",
   "execution_count": null,
   "id": "c8747484",
   "metadata": {},
   "outputs": [],
   "source": [
    "# Age at plasma collection\n",
    "summary(selected.subjects$Age_at_plasma_collection_date)"
   ]
  },
  {
   "cell_type": "code",
   "execution_count": null,
   "id": "ee3fa41d",
   "metadata": {},
   "outputs": [],
   "source": [
    "# Gender\n",
    "table(selected.subjects$Gender_impute_all)\n",
    "selected.subjects %>%\n",
    "  group_by(Gender_impute_all) %>%\n",
    "  summarise(Percentage = n() / nrow(selected.subjects) * 100) # calculate percentages"
   ]
  },
  {
   "cell_type": "code",
   "execution_count": null,
   "id": "bafd213e",
   "metadata": {},
   "outputs": [],
   "source": [
    "# Race\n",
    "table(selected.subjects$Race_White_KNN_impute_missing)\n",
    "selected.subjects %>%\n",
    "  group_by(Race_White_KNN_impute_missing) %>%\n",
    "  summarise(Percentage = n() / nrow(selected.subjects) * 100) # calculate percentages"
   ]
  },
  {
   "cell_type": "code",
   "execution_count": null,
   "id": "a952f702",
   "metadata": {},
   "outputs": [],
   "source": [
    "# BMI at collection date \n",
    "summary(selected.subjects$BMI_median_closest_measure_date_to_collect_date)\n",
    "table(selected.subjects$BMI_median_closest_measure_date_to_collect_date_category) # BMI category\n",
    "selected.subjects %>%\n",
    "  group_by(BMI_median_closest_measure_date_to_collect_date_category) %>%\n",
    "  summarise(Percentage = n() / nrow(selected.subjects) * 100) # calculate percentages"
   ]
  },
  {
   "cell_type": "code",
   "execution_count": null,
   "id": "15ec073b",
   "metadata": {},
   "outputs": [],
   "source": [
    "# Smoking status\n",
    "table(selected.subjects$Closest_collect_date_smoking_status)\n",
    "selected.subjects %>%\n",
    "  group_by(Closest_collect_date_smoking_status) %>%\n",
    "  summarise(Percentage = n() / nrow(selected.subjects) * 100) # calculate percentages\n"
   ]
  },
  {
   "cell_type": "code",
   "execution_count": null,
   "id": "a86970a0",
   "metadata": {},
   "outputs": [],
   "source": [
    "# Number of corticoseroids\n",
    "summary(selected.subjects$Corticosteroids_total_number_of_prescriptions_within_5y)"
   ]
  },
  {
   "cell_type": "code",
   "execution_count": null,
   "id": "fdc1bd8d",
   "metadata": {},
   "outputs": [],
   "source": [
    "# ICS Daily Dose\n",
    "table(selected.subjects$ICS_Dose_Classification_5Y_Median)\n",
    "selected.subjects %>%\n",
    "  group_by(ICS_Dose_Classification_5Y_Median) %>%\n",
    "  summarise(Percentage = n() / nrow(selected.subjects) * 100) # calculate percentages"
   ]
  },
  {
   "cell_type": "code",
   "execution_count": null,
   "id": "322cf7fc",
   "metadata": {},
   "outputs": [],
   "source": [
    "# Min Cortisol\n",
    "summary(selected.subjects$Cortisol_min_value_closest_measure_date_to_collect_date)"
   ]
  },
  {
   "cell_type": "code",
   "execution_count": null,
   "id": "12991bfb",
   "metadata": {},
   "outputs": [],
   "source": [
    "# Duration between plasma collection date and cortuisol measurement date\n",
    "summary(selected.subjects$Cortisol_closest_date_collect_date_gap_abs)"
   ]
  },
  {
   "cell_type": "code",
   "execution_count": null,
   "id": "2ecc02f4",
   "metadata": {},
   "outputs": [],
   "source": [
    "hist(selected.subjects$Cortisol_closest_date_collect_date_gap_abs,10)"
   ]
  },
  {
   "cell_type": "code",
   "execution_count": null,
   "id": "2d039925",
   "metadata": {},
   "outputs": [],
   "source": [
    "# Bronchiectasis Existence\n",
    "table(selected.subjects$Any_Bronchiectasis_Existence_Yes_No)\n",
    "selected.subjects %>%\n",
    "  group_by(Any_Bronchiectasis_Existence_Yes_No) %>%\n",
    "  summarise(Percentage = n() / nrow(selected.subjects) * 100) # calculate percentages\n"
   ]
  },
  {
   "cell_type": "code",
   "execution_count": null,
   "id": "e7923f7a",
   "metadata": {},
   "outputs": [],
   "source": [
    "# Chronic Bronchitis Existence\n",
    "table(selected.subjects$Any_Chronic_Bronchitis_Existence_Yes_No)\n",
    "selected.subjects %>%\n",
    "  group_by(Any_Chronic_Bronchitis_Existence_Yes_No) %>%\n",
    "  summarise(Percentage = n() / nrow(selected.subjects) * 100) # calculate percentages"
   ]
  },
  {
   "cell_type": "markdown",
   "id": "434dd0a7",
   "metadata": {},
   "source": [
    "# Transformation of non-normal distributed variables"
   ]
  },
  {
   "cell_type": "code",
   "execution_count": null,
   "id": "78fdc207",
   "metadata": {},
   "outputs": [],
   "source": [
    "# log transformation of number of prescription\n",
    "selected.subjects$Corticosteroids_total_number_of_prescriptions_within_5y_log <- log(selected.subjects$Corticosteroids_total_number_of_prescriptions_within_5y)"
   ]
  },
  {
   "cell_type": "code",
   "execution_count": null,
   "id": "5af6171e",
   "metadata": {},
   "outputs": [],
   "source": [
    "# square transformation of min cortisol\n",
    "selected.subjects$Cortisol_min_value_closest_measure_date_to_collect_date_square <- sqrt(selected.subjects$Cortisol_min_value_closest_measure_date_to_collect_date)"
   ]
  },
  {
   "cell_type": "code",
   "execution_count": null,
   "id": "b9674a9d",
   "metadata": {},
   "outputs": [],
   "source": [
    "# quartile transformation of duration between plasma collection and cortisol measurement date\n",
    "### Function\n",
    "quant_cut <- function(x, n) {\n",
    "  qs <- quantile(x, 1:(n-1)/n, na.rm = TRUE)\n",
    "  brks <- c(-Inf, qs, Inf)\n",
    "  cut(x, breaks=unique(brks), labels=FALSE, na.rm = TRUE)\n",
    "}\n",
    "\n",
    "selected.subjects$Cortisol_closest_date_collect_date_gap_abs_quartile <- quant_cut(selected.subjects$Cortisol_closest_date_collect_date_gap_abs, 4) \n",
    "table(selected.subjects$Cortisol_closest_date_collect_date_gap_abs_quartile)\n",
    "unique(quantile(selected.subjects$Cortisol_closest_date_collect_date_gap_abs, probs = seq(.25, .75, by = .25), na.rm = TRUE))"
   ]
  },
  {
   "cell_type": "code",
   "execution_count": null,
   "id": "8a7de5a5",
   "metadata": {},
   "outputs": [],
   "source": [
    "hist(selected.subjects$Cortisol_closest_date_collect_date_gap_abs_quartile)"
   ]
  },
  {
   "cell_type": "code",
   "execution_count": null,
   "id": "541d1a60",
   "metadata": {},
   "outputs": [],
   "source": [
    "# Select variables\n",
    "selected.variables <- selected.subjects %>% select(Subject_Id, \n",
    "                                                   Any_Bronchiectasis_Existence_Yes_No,\n",
    "                                                   Any_Chronic_Bronchitis_Existence_Yes_No,\n",
    "                                                   Gender_impute_all, \n",
    "                                                   Age_at_plasma_collection_date,\n",
    "                                                   Race_White_KNN_impute_missing, \n",
    "                                                   Closest_collect_date_smoking_status,\n",
    "                                                   BMI_median_closest_measure_date_to_collect_date,\n",
    "                                                   BMI_median_closest_measure_date_to_collect_date_category,\n",
    "                                                   Corticosteroids_total_number_of_prescriptions_within_5y,\n",
    "                                                   Corticosteroids_total_number_of_prescriptions_within_5y_log,\n",
    "                                                   ICS_Dose_Classification_5Y_Median,\n",
    "                                                   Cortisol_closest_date_collect_date_gap_abs,\n",
    "                                                   Cortisol_closest_date_collect_date_gap_abs_quartile,\n",
    "                                                   Cortisol_min_value_closest_measure_date_to_collect_date,\n",
    "                                                   Cortisol_min_value_closest_measure_date_to_collect_date_square)\n",
    "dim(selected.variables)"
   ]
  },
  {
   "cell_type": "markdown",
   "id": "8c127175",
   "metadata": {},
   "source": [
    "# Metabolomics data"
   ]
  },
  {
   "cell_type": "code",
   "execution_count": null,
   "id": "dc84eabe",
   "metadata": {},
   "outputs": [],
   "source": [
    "# Load metabolomics data\n",
    "mets <- read.csv(file.path(cleaned.rpdr.dir, 'Mets-QC.csv'))\n",
    "dim(mets)\n",
    "length(unique(mets$CLIENT_SAMPLE_ID)) # 928 subjects"
   ]
  },
  {
   "cell_type": "code",
   "execution_count": null,
   "id": "3e76c059",
   "metadata": {},
   "outputs": [],
   "source": [
    "# rename column to merge files\n",
    "colnames(mets)[colnames(mets) == \"CLIENT_SAMPLE_ID\"] = \"Subject_Id\"\n",
    "dim(mets)\n",
    "head(mets)"
   ]
  },
  {
   "cell_type": "code",
   "execution_count": null,
   "id": "d05df7b3",
   "metadata": {},
   "outputs": [],
   "source": [
    "# merge with pheno\n",
    "data.mets.pheno <- selected.variables %>% left_join(mets, by = 'Subject_Id')\n",
    "dim(data.mets.pheno)\n",
    "head(data.mets.pheno)"
   ]
  },
  {
   "cell_type": "code",
   "execution_count": null,
   "id": "b90f32fb",
   "metadata": {},
   "outputs": [],
   "source": [
    "write.csv(data.mets.pheno, file.path(data.dir, 'pheno_met.csv'), row.names = FALSE)"
   ]
  },
  {
   "cell_type": "code",
   "execution_count": null,
   "id": "1e2990f0",
   "metadata": {},
   "outputs": [],
   "source": []
  }
 ],
 "metadata": {
  "kernelspec": {
   "display_name": "R",
   "language": "R",
   "name": "ir"
  },
  "language_info": {
   "codemirror_mode": "r",
   "file_extension": ".r",
   "mimetype": "text/x-r-source",
   "name": "R",
   "pygments_lexer": "r",
   "version": "4.1.0"
  }
 },
 "nbformat": 4,
 "nbformat_minor": 5
}
